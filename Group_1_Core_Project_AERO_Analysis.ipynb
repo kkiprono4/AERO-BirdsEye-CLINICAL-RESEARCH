{
  "nbformat": 4,
  "nbformat_minor": 0,
  "metadata": {
    "colab": {
      "name": "Group_1_Core_Project_AERO_Analysis.ipynb",
      "provenance": [],
      "collapsed_sections": [],
      "toc_visible": true,
      "include_colab_link": true
    },
    "kernelspec": {
      "name": "python3",
      "display_name": "Python 3"
    },
    "language_info": {
      "name": "python"
    }
  },
  "cells": [
    {
      "cell_type": "markdown",
      "metadata": {
        "id": "view-in-github",
        "colab_type": "text"
      },
      "source": [
        "<a href=\"https://colab.research.google.com/github/kkiprono4/AERO-BirdsEye-CLINICAL-RESEARCH/blob/main/Group_1_Core_Project_AERO_Analysis.ipynb\" target=\"_parent\"><img src=\"https://colab.research.google.com/assets/colab-badge.svg\" alt=\"Open In Colab\"/></a>"
      ]
    },
    {
      "cell_type": "markdown",
      "source": [
        "# **AERO-BirdsEye Medical Research**"
      ],
      "metadata": {
        "id": "Q0Xmv5p8RdZe"
      }
    },
    {
      "cell_type": "markdown",
      "source": [
        "Group Members\n",
        "1. Collins Bett\n",
        "2. Jocine Nabwire\n",
        "3. Victoria Maina\n",
        "4. Maureen Chepkirui\n",
        "5. Francis Thairu\n",
        "6. Kevin Kiprono\n"
      ],
      "metadata": {
        "id": "5QORbAg2JrhO"
      }
    },
    {
      "cell_type": "markdown",
      "source": [
        "## **1. Defining the Question**"
      ],
      "metadata": {
        "id": "tN09GpzZRoL5"
      }
    },
    {
      "cell_type": "markdown",
      "source": [
        "### a) Specifying the Question"
      ],
      "metadata": {
        "id": "CYUFrTc0R5IK"
      }
    },
    {
      "cell_type": "markdown",
      "source": [
        "The research problem is to find out completed and withdrawn tests done by GSK (GlaxoSmithKline plc)\n",
        "\n",
        "To investigate which sponsor had done the most trials.\n",
        "\n",
        "To find which condition was most investigated.\n",
        "\n",
        "To find which sponsor had done the most tests on condition X(which is the most tested condition)."
      ],
      "metadata": {
        "id": "bG4N2g3rsTZq"
      }
    },
    {
      "cell_type": "markdown",
      "source": [
        "### b) Defining the Metric for Success"
      ],
      "metadata": {
        "id": "V2vLapzeR8Sy"
      }
    },
    {
      "cell_type": "markdown",
      "source": [
        "This analysis requires us to come up with a solution that will help reduce waste of resources and time and be able to focus on drug development.We therefoe need to  analyze on the number of trials each sponsor carried out, the conditions that were on trial especially in regards to each sponsor and also the status of trials that were carried out(whether they were completed or not). Our findings will be used by the government  regulatory board to give proper directives to these companies in order to effect change.we will implement the solution by analysing our data and providing  insights that arise.\n"
      ],
      "metadata": {
        "id": "8LmTRchPsY8y"
      }
    },
    {
      "cell_type": "markdown",
      "source": [
        "### c) Understanding the context "
      ],
      "metadata": {
        "id": "ajkvLdYfSCgr"
      }
    },
    {
      "cell_type": "markdown",
      "source": [
        "> Waste and inefficiency in drug development are big problems. They can be hard to spot, especially when you are in the midst of the process. A new way of visualizing clinical trials might help.\n",
        "Some experts believe that as much as 85% of medical research may be wasteful due to biases in study design, lack of publication, unnecessary duplication, or investigating questions of little importance. It is also estimated that only about one (or maybe two) of every 10 drugs that enter into clinical testing will turn out to be effective.\n",
        "Here’s a proof-of-concept for the bird’s-eye view that uses clinical trials.gov data and the AERO-BirdsEye to analyze all of the registered clinical trials from 10 large pharmaceutical companies — AbbVie, Bayer, Gilead, GSK, Johnson & Johnson, Merck, Novartis, Pfizer, Roche, and Sanofi — over past 20 years or so.\n"
      ],
      "metadata": {
        "id": "DYqRP8kumuaZ"
      }
    },
    {
      "cell_type": "markdown",
      "source": [
        "### d) Recording the Experimental Design"
      ],
      "metadata": {
        "id": "drZumxWMSHRy"
      }
    },
    {
      "cell_type": "markdown",
      "source": [
        "> The following steps were taken:\n",
        "\n",
        "1. Business Understanding\n",
        "2. Reading the data\n",
        "3. Checking our data\n",
        "4. Data cleaning\n",
        "5. Implementing the solution\n",
        "6. Challenging the solution"
      ],
      "metadata": {
        "id": "6RpukPetSLFa"
      }
    },
    {
      "cell_type": "markdown",
      "source": [
        "### e) Data Relevance"
      ],
      "metadata": {
        "id": "bT3J2iQzmxyr"
      }
    },
    {
      "cell_type": "markdown",
      "source": [
        "Datasets Provided:\n",
        "\n",
        "Aero-Birds Eye View [Link](https://www.kaggle.com/yamqwe/2019-w33-a-birds-eye-view-of-clinical-trialse)"
      ],
      "metadata": {
        "id": "Fut1YKAASrtU"
      }
    },
    {
      "cell_type": "markdown",
      "source": [
        "## **2. Reading the Data**"
      ],
      "metadata": {
        "id": "HA1_CSwQTPd1"
      }
    },
    {
      "cell_type": "code",
      "execution_count": null,
      "metadata": {
        "id": "cK0w6thvxe06"
      },
      "outputs": [],
      "source": [
        "# Importing the libraries we will need \n",
        "\n",
        "import pandas as pd\n",
        "\n",
        "import numpy as np\n",
        "\n",
        "import seaborn as sns\n",
        "\n",
        "import matplotlib.pyplot as plt\n",
        "\n",
        "import scipy.stats\n",
        "\n",
        "from scipy import stats"
      ]
    },
    {
      "cell_type": "markdown",
      "source": [
        "### Reading the Dataset from our CSV file"
      ],
      "metadata": {
        "id": "bNRIkEW0U8wx"
      }
    },
    {
      "cell_type": "code",
      "source": [
        "#loading the dataset\n",
        "df=pd.read_csv(\"/content/AERO-BirdsEye-Data.csv\")\n",
        "#previewing the dataset\n",
        "df.head()"
      ],
      "metadata": {
        "id": "HBW99Tn2xiio",
        "colab": {
          "base_uri": "https://localhost:8080/",
          "height": 528
        },
        "outputId": "afa4df41-f4f1-4538-c038-7cd32557ce1d"
      },
      "execution_count": null,
      "outputs": [
        {
          "output_type": "execute_result",
          "data": {
            "text/html": [
              "\n",
              "  <div id=\"df-0a95ac2d-1620-49e2-a1a4-f1f32e02f35c\">\n",
              "    <div class=\"colab-df-container\">\n",
              "      <div>\n",
              "<style scoped>\n",
              "    .dataframe tbody tr th:only-of-type {\n",
              "        vertical-align: middle;\n",
              "    }\n",
              "\n",
              "    .dataframe tbody tr th {\n",
              "        vertical-align: top;\n",
              "    }\n",
              "\n",
              "    .dataframe thead th {\n",
              "        text-align: right;\n",
              "    }\n",
              "</style>\n",
              "<table border=\"1\" class=\"dataframe\">\n",
              "  <thead>\n",
              "    <tr style=\"text-align: right;\">\n",
              "      <th></th>\n",
              "      <th>NCT</th>\n",
              "      <th>Sponsor</th>\n",
              "      <th>Title</th>\n",
              "      <th>Summary</th>\n",
              "      <th>Start_Year</th>\n",
              "      <th>Start_Month</th>\n",
              "      <th>Phase</th>\n",
              "      <th>Enrollment</th>\n",
              "      <th>Status</th>\n",
              "      <th>Condition</th>\n",
              "    </tr>\n",
              "  </thead>\n",
              "  <tbody>\n",
              "    <tr>\n",
              "      <th>0</th>\n",
              "      <td>NCT00003305</td>\n",
              "      <td>Sanofi</td>\n",
              "      <td>A Phase II Trial of Aminopterin in Adults and ...</td>\n",
              "      <td>RATIONALE: Drugs used in chemotherapy use diff...</td>\n",
              "      <td>1997</td>\n",
              "      <td>7</td>\n",
              "      <td>Phase 2</td>\n",
              "      <td>75</td>\n",
              "      <td>Completed</td>\n",
              "      <td>Leukemia</td>\n",
              "    </tr>\n",
              "    <tr>\n",
              "      <th>1</th>\n",
              "      <td>NCT00003821</td>\n",
              "      <td>Sanofi</td>\n",
              "      <td>Phase II Trial of Aminopterin in Patients With...</td>\n",
              "      <td>RATIONALE: Drugs used in chemotherapy use diff...</td>\n",
              "      <td>1998</td>\n",
              "      <td>1</td>\n",
              "      <td>Phase 2</td>\n",
              "      <td>0</td>\n",
              "      <td>Withdrawn</td>\n",
              "      <td>Endometrial Neoplasms</td>\n",
              "    </tr>\n",
              "    <tr>\n",
              "      <th>2</th>\n",
              "      <td>NCT00004025</td>\n",
              "      <td>Sanofi</td>\n",
              "      <td>Phase I/II Trial of the Safety, Immunogenicity...</td>\n",
              "      <td>RATIONALE: Vaccines made from a person's white...</td>\n",
              "      <td>1999</td>\n",
              "      <td>3</td>\n",
              "      <td>Phase 1/Phase 2</td>\n",
              "      <td>36</td>\n",
              "      <td>Unknown status</td>\n",
              "      <td>Melanoma</td>\n",
              "    </tr>\n",
              "    <tr>\n",
              "      <th>3</th>\n",
              "      <td>NCT00005645</td>\n",
              "      <td>Sanofi</td>\n",
              "      <td>Phase II Trial of ILX295501 Administered Orall...</td>\n",
              "      <td>RATIONALE: Drugs used in chemotherapy use diff...</td>\n",
              "      <td>1999</td>\n",
              "      <td>5</td>\n",
              "      <td>Phase 2</td>\n",
              "      <td>0</td>\n",
              "      <td>Withdrawn</td>\n",
              "      <td>Ovarian Neoplasms</td>\n",
              "    </tr>\n",
              "    <tr>\n",
              "      <th>4</th>\n",
              "      <td>NCT00008281</td>\n",
              "      <td>Sanofi</td>\n",
              "      <td>A Multicenter, Open-Label, Randomized, Three-A...</td>\n",
              "      <td>RATIONALE: Drugs used in chemotherapy use diff...</td>\n",
              "      <td>2000</td>\n",
              "      <td>10</td>\n",
              "      <td>Phase 3</td>\n",
              "      <td>0</td>\n",
              "      <td>Unknown status</td>\n",
              "      <td>Colorectal Neoplasms</td>\n",
              "    </tr>\n",
              "  </tbody>\n",
              "</table>\n",
              "</div>\n",
              "      <button class=\"colab-df-convert\" onclick=\"convertToInteractive('df-0a95ac2d-1620-49e2-a1a4-f1f32e02f35c')\"\n",
              "              title=\"Convert this dataframe to an interactive table.\"\n",
              "              style=\"display:none;\">\n",
              "        \n",
              "  <svg xmlns=\"http://www.w3.org/2000/svg\" height=\"24px\"viewBox=\"0 0 24 24\"\n",
              "       width=\"24px\">\n",
              "    <path d=\"M0 0h24v24H0V0z\" fill=\"none\"/>\n",
              "    <path d=\"M18.56 5.44l.94 2.06.94-2.06 2.06-.94-2.06-.94-.94-2.06-.94 2.06-2.06.94zm-11 1L8.5 8.5l.94-2.06 2.06-.94-2.06-.94L8.5 2.5l-.94 2.06-2.06.94zm10 10l.94 2.06.94-2.06 2.06-.94-2.06-.94-.94-2.06-.94 2.06-2.06.94z\"/><path d=\"M17.41 7.96l-1.37-1.37c-.4-.4-.92-.59-1.43-.59-.52 0-1.04.2-1.43.59L10.3 9.45l-7.72 7.72c-.78.78-.78 2.05 0 2.83L4 21.41c.39.39.9.59 1.41.59.51 0 1.02-.2 1.41-.59l7.78-7.78 2.81-2.81c.8-.78.8-2.07 0-2.86zM5.41 20L4 18.59l7.72-7.72 1.47 1.35L5.41 20z\"/>\n",
              "  </svg>\n",
              "      </button>\n",
              "      \n",
              "  <style>\n",
              "    .colab-df-container {\n",
              "      display:flex;\n",
              "      flex-wrap:wrap;\n",
              "      gap: 12px;\n",
              "    }\n",
              "\n",
              "    .colab-df-convert {\n",
              "      background-color: #E8F0FE;\n",
              "      border: none;\n",
              "      border-radius: 50%;\n",
              "      cursor: pointer;\n",
              "      display: none;\n",
              "      fill: #1967D2;\n",
              "      height: 32px;\n",
              "      padding: 0 0 0 0;\n",
              "      width: 32px;\n",
              "    }\n",
              "\n",
              "    .colab-df-convert:hover {\n",
              "      background-color: #E2EBFA;\n",
              "      box-shadow: 0px 1px 2px rgba(60, 64, 67, 0.3), 0px 1px 3px 1px rgba(60, 64, 67, 0.15);\n",
              "      fill: #174EA6;\n",
              "    }\n",
              "\n",
              "    [theme=dark] .colab-df-convert {\n",
              "      background-color: #3B4455;\n",
              "      fill: #D2E3FC;\n",
              "    }\n",
              "\n",
              "    [theme=dark] .colab-df-convert:hover {\n",
              "      background-color: #434B5C;\n",
              "      box-shadow: 0px 1px 3px 1px rgba(0, 0, 0, 0.15);\n",
              "      filter: drop-shadow(0px 1px 2px rgba(0, 0, 0, 0.3));\n",
              "      fill: #FFFFFF;\n",
              "    }\n",
              "  </style>\n",
              "\n",
              "      <script>\n",
              "        const buttonEl =\n",
              "          document.querySelector('#df-0a95ac2d-1620-49e2-a1a4-f1f32e02f35c button.colab-df-convert');\n",
              "        buttonEl.style.display =\n",
              "          google.colab.kernel.accessAllowed ? 'block' : 'none';\n",
              "\n",
              "        async function convertToInteractive(key) {\n",
              "          const element = document.querySelector('#df-0a95ac2d-1620-49e2-a1a4-f1f32e02f35c');\n",
              "          const dataTable =\n",
              "            await google.colab.kernel.invokeFunction('convertToInteractive',\n",
              "                                                     [key], {});\n",
              "          if (!dataTable) return;\n",
              "\n",
              "          const docLinkHtml = 'Like what you see? Visit the ' +\n",
              "            '<a target=\"_blank\" href=https://colab.research.google.com/notebooks/data_table.ipynb>data table notebook</a>'\n",
              "            + ' to learn more about interactive tables.';\n",
              "          element.innerHTML = '';\n",
              "          dataTable['output_type'] = 'display_data';\n",
              "          await google.colab.output.renderOutput(dataTable, element);\n",
              "          const docLink = document.createElement('div');\n",
              "          docLink.innerHTML = docLinkHtml;\n",
              "          element.appendChild(docLink);\n",
              "        }\n",
              "      </script>\n",
              "    </div>\n",
              "  </div>\n",
              "  "
            ],
            "text/plain": [
              "           NCT Sponsor  ...          Status              Condition\n",
              "0  NCT00003305  Sanofi  ...       Completed               Leukemia\n",
              "1  NCT00003821  Sanofi  ...       Withdrawn  Endometrial Neoplasms\n",
              "2  NCT00004025  Sanofi  ...  Unknown status               Melanoma\n",
              "3  NCT00005645  Sanofi  ...       Withdrawn      Ovarian Neoplasms\n",
              "4  NCT00008281  Sanofi  ...  Unknown status   Colorectal Neoplasms\n",
              "\n",
              "[5 rows x 10 columns]"
            ]
          },
          "metadata": {},
          "execution_count": 2
        }
      ]
    },
    {
      "cell_type": "code",
      "source": [
        "#checking the tail\n",
        "df.tail()"
      ],
      "metadata": {
        "id": "jdWoRlRHVKJT",
        "colab": {
          "base_uri": "https://localhost:8080/",
          "height": 478
        },
        "outputId": "f17ed81e-837f-4393-b4e0-8c235372a5cb"
      },
      "execution_count": null,
      "outputs": [
        {
          "output_type": "execute_result",
          "data": {
            "text/html": [
              "\n",
              "  <div id=\"df-f7d05971-e6d9-4d62-9266-f2b92ed44723\">\n",
              "    <div class=\"colab-df-container\">\n",
              "      <div>\n",
              "<style scoped>\n",
              "    .dataframe tbody tr th:only-of-type {\n",
              "        vertical-align: middle;\n",
              "    }\n",
              "\n",
              "    .dataframe tbody tr th {\n",
              "        vertical-align: top;\n",
              "    }\n",
              "\n",
              "    .dataframe thead th {\n",
              "        text-align: right;\n",
              "    }\n",
              "</style>\n",
              "<table border=\"1\" class=\"dataframe\">\n",
              "  <thead>\n",
              "    <tr style=\"text-align: right;\">\n",
              "      <th></th>\n",
              "      <th>NCT</th>\n",
              "      <th>Sponsor</th>\n",
              "      <th>Title</th>\n",
              "      <th>Summary</th>\n",
              "      <th>Start_Year</th>\n",
              "      <th>Start_Month</th>\n",
              "      <th>Phase</th>\n",
              "      <th>Enrollment</th>\n",
              "      <th>Status</th>\n",
              "      <th>Condition</th>\n",
              "    </tr>\n",
              "  </thead>\n",
              "  <tbody>\n",
              "    <tr>\n",
              "      <th>13743</th>\n",
              "      <td>NCT03726879</td>\n",
              "      <td>Roche</td>\n",
              "      <td>A Phase III, Randomized, Double-Blind, Placebo...</td>\n",
              "      <td>This study (also known as IMpassion050) will e...</td>\n",
              "      <td>2018</td>\n",
              "      <td>12</td>\n",
              "      <td>Phase 3</td>\n",
              "      <td>224</td>\n",
              "      <td>Recruiting</td>\n",
              "      <td>Breast Neoplasms</td>\n",
              "    </tr>\n",
              "    <tr>\n",
              "      <th>13744</th>\n",
              "      <td>NCT03735121</td>\n",
              "      <td>Roche</td>\n",
              "      <td>A Two-Part Phase Ib/II Study to Investigate th...</td>\n",
              "      <td>This study will evaluate the pharmacokinetics,...</td>\n",
              "      <td>2018</td>\n",
              "      <td>12</td>\n",
              "      <td>Phase 1</td>\n",
              "      <td>245</td>\n",
              "      <td>Recruiting</td>\n",
              "      <td>Lung Neoplasms</td>\n",
              "    </tr>\n",
              "    <tr>\n",
              "      <th>13745</th>\n",
              "      <td>NCT03761849</td>\n",
              "      <td>Roche</td>\n",
              "      <td>A Randomized, Multicenter, Double-Blind, Place...</td>\n",
              "      <td>This study will evaluate the efficacy, safety,...</td>\n",
              "      <td>2018</td>\n",
              "      <td>12</td>\n",
              "      <td>Phase 3</td>\n",
              "      <td>660</td>\n",
              "      <td>Not yet recruiting</td>\n",
              "      <td>Huntington Disease</td>\n",
              "    </tr>\n",
              "    <tr>\n",
              "      <th>13746</th>\n",
              "      <td>NCT03762681</td>\n",
              "      <td>Roche</td>\n",
              "      <td>A Randomized, Placebo-controlled,Observer-blin...</td>\n",
              "      <td>This study is designed to assess the safety, t...</td>\n",
              "      <td>2018</td>\n",
              "      <td>12</td>\n",
              "      <td>Phase 1</td>\n",
              "      <td>75</td>\n",
              "      <td>Not yet recruiting</td>\n",
              "      <td>Hepatitis</td>\n",
              "    </tr>\n",
              "    <tr>\n",
              "      <th>13747</th>\n",
              "      <td>NCT03779334</td>\n",
              "      <td>Roche</td>\n",
              "      <td>An Open-Label Study of Risdiplam in Infants Wi...</td>\n",
              "      <td>A global study of oral risdiplam in pre-sympto...</td>\n",
              "      <td>2019</td>\n",
              "      <td>2</td>\n",
              "      <td>Phase 2</td>\n",
              "      <td>25</td>\n",
              "      <td>Not yet recruiting</td>\n",
              "      <td>Muscular Atrophy, Spinal</td>\n",
              "    </tr>\n",
              "  </tbody>\n",
              "</table>\n",
              "</div>\n",
              "      <button class=\"colab-df-convert\" onclick=\"convertToInteractive('df-f7d05971-e6d9-4d62-9266-f2b92ed44723')\"\n",
              "              title=\"Convert this dataframe to an interactive table.\"\n",
              "              style=\"display:none;\">\n",
              "        \n",
              "  <svg xmlns=\"http://www.w3.org/2000/svg\" height=\"24px\"viewBox=\"0 0 24 24\"\n",
              "       width=\"24px\">\n",
              "    <path d=\"M0 0h24v24H0V0z\" fill=\"none\"/>\n",
              "    <path d=\"M18.56 5.44l.94 2.06.94-2.06 2.06-.94-2.06-.94-.94-2.06-.94 2.06-2.06.94zm-11 1L8.5 8.5l.94-2.06 2.06-.94-2.06-.94L8.5 2.5l-.94 2.06-2.06.94zm10 10l.94 2.06.94-2.06 2.06-.94-2.06-.94-.94-2.06-.94 2.06-2.06.94z\"/><path d=\"M17.41 7.96l-1.37-1.37c-.4-.4-.92-.59-1.43-.59-.52 0-1.04.2-1.43.59L10.3 9.45l-7.72 7.72c-.78.78-.78 2.05 0 2.83L4 21.41c.39.39.9.59 1.41.59.51 0 1.02-.2 1.41-.59l7.78-7.78 2.81-2.81c.8-.78.8-2.07 0-2.86zM5.41 20L4 18.59l7.72-7.72 1.47 1.35L5.41 20z\"/>\n",
              "  </svg>\n",
              "      </button>\n",
              "      \n",
              "  <style>\n",
              "    .colab-df-container {\n",
              "      display:flex;\n",
              "      flex-wrap:wrap;\n",
              "      gap: 12px;\n",
              "    }\n",
              "\n",
              "    .colab-df-convert {\n",
              "      background-color: #E8F0FE;\n",
              "      border: none;\n",
              "      border-radius: 50%;\n",
              "      cursor: pointer;\n",
              "      display: none;\n",
              "      fill: #1967D2;\n",
              "      height: 32px;\n",
              "      padding: 0 0 0 0;\n",
              "      width: 32px;\n",
              "    }\n",
              "\n",
              "    .colab-df-convert:hover {\n",
              "      background-color: #E2EBFA;\n",
              "      box-shadow: 0px 1px 2px rgba(60, 64, 67, 0.3), 0px 1px 3px 1px rgba(60, 64, 67, 0.15);\n",
              "      fill: #174EA6;\n",
              "    }\n",
              "\n",
              "    [theme=dark] .colab-df-convert {\n",
              "      background-color: #3B4455;\n",
              "      fill: #D2E3FC;\n",
              "    }\n",
              "\n",
              "    [theme=dark] .colab-df-convert:hover {\n",
              "      background-color: #434B5C;\n",
              "      box-shadow: 0px 1px 3px 1px rgba(0, 0, 0, 0.15);\n",
              "      filter: drop-shadow(0px 1px 2px rgba(0, 0, 0, 0.3));\n",
              "      fill: #FFFFFF;\n",
              "    }\n",
              "  </style>\n",
              "\n",
              "      <script>\n",
              "        const buttonEl =\n",
              "          document.querySelector('#df-f7d05971-e6d9-4d62-9266-f2b92ed44723 button.colab-df-convert');\n",
              "        buttonEl.style.display =\n",
              "          google.colab.kernel.accessAllowed ? 'block' : 'none';\n",
              "\n",
              "        async function convertToInteractive(key) {\n",
              "          const element = document.querySelector('#df-f7d05971-e6d9-4d62-9266-f2b92ed44723');\n",
              "          const dataTable =\n",
              "            await google.colab.kernel.invokeFunction('convertToInteractive',\n",
              "                                                     [key], {});\n",
              "          if (!dataTable) return;\n",
              "\n",
              "          const docLinkHtml = 'Like what you see? Visit the ' +\n",
              "            '<a target=\"_blank\" href=https://colab.research.google.com/notebooks/data_table.ipynb>data table notebook</a>'\n",
              "            + ' to learn more about interactive tables.';\n",
              "          element.innerHTML = '';\n",
              "          dataTable['output_type'] = 'display_data';\n",
              "          await google.colab.output.renderOutput(dataTable, element);\n",
              "          const docLink = document.createElement('div');\n",
              "          docLink.innerHTML = docLinkHtml;\n",
              "          element.appendChild(docLink);\n",
              "        }\n",
              "      </script>\n",
              "    </div>\n",
              "  </div>\n",
              "  "
            ],
            "text/plain": [
              "               NCT Sponsor  ...              Status                 Condition\n",
              "13743  NCT03726879   Roche  ...          Recruiting          Breast Neoplasms\n",
              "13744  NCT03735121   Roche  ...          Recruiting            Lung Neoplasms\n",
              "13745  NCT03761849   Roche  ...  Not yet recruiting        Huntington Disease\n",
              "13746  NCT03762681   Roche  ...  Not yet recruiting                 Hepatitis\n",
              "13747  NCT03779334   Roche  ...  Not yet recruiting  Muscular Atrophy, Spinal\n",
              "\n",
              "[5 rows x 10 columns]"
            ]
          },
          "metadata": {},
          "execution_count": 3
        }
      ]
    },
    {
      "cell_type": "markdown",
      "source": [
        "## **3. Data Understanding**"
      ],
      "metadata": {
        "id": "waIFFd-EVR9U"
      }
    },
    {
      "cell_type": "code",
      "source": [
        "#getting the info\n",
        "df.info()"
      ],
      "metadata": {
        "id": "ZuuHRMBdVXoM",
        "colab": {
          "base_uri": "https://localhost:8080/"
        },
        "outputId": "7b46f729-c5b1-4caa-d151-3110fce5a7b2"
      },
      "execution_count": null,
      "outputs": [
        {
          "output_type": "stream",
          "name": "stdout",
          "text": [
            "<class 'pandas.core.frame.DataFrame'>\n",
            "RangeIndex: 13748 entries, 0 to 13747\n",
            "Data columns (total 10 columns):\n",
            " #   Column       Non-Null Count  Dtype \n",
            "---  ------       --------------  ----- \n",
            " 0   NCT          13748 non-null  object\n",
            " 1   Sponsor      13748 non-null  object\n",
            " 2   Title        13604 non-null  object\n",
            " 3   Summary      13737 non-null  object\n",
            " 4   Start_Year   13748 non-null  int64 \n",
            " 5   Start_Month  13748 non-null  int64 \n",
            " 6   Phase        13485 non-null  object\n",
            " 7   Enrollment   13748 non-null  int64 \n",
            " 8   Status       13748 non-null  object\n",
            " 9   Condition    13748 non-null  object\n",
            "dtypes: int64(3), object(7)\n",
            "memory usage: 1.0+ MB\n"
          ]
        }
      ]
    },
    {
      "cell_type": "markdown",
      "source": [
        "Our dataset comprises of object and integer data types."
      ],
      "metadata": {
        "id": "Ny5Pcg-Fls6y"
      }
    },
    {
      "cell_type": "code",
      "source": [
        "#checking the columns\n",
        "#\n",
        "df.columns"
      ],
      "metadata": {
        "id": "zMr9t_a7VbTr",
        "colab": {
          "base_uri": "https://localhost:8080/"
        },
        "outputId": "989e793f-c975-438b-e569-d7df791498af"
      },
      "execution_count": null,
      "outputs": [
        {
          "output_type": "execute_result",
          "data": {
            "text/plain": [
              "Index(['NCT', 'Sponsor', 'Title', 'Summary', 'Start_Year', 'Start_Month',\n",
              "       'Phase', 'Enrollment', 'Status', 'Condition'],\n",
              "      dtype='object')"
            ]
          },
          "metadata": {},
          "execution_count": 5
        }
      ]
    },
    {
      "cell_type": "markdown",
      "source": [
        "We have 10 columns as shown above."
      ],
      "metadata": {
        "id": "MRLIuMZ8l1NC"
      }
    },
    {
      "cell_type": "code",
      "source": [
        "#Getting the shape\n",
        "#\n",
        "df.shape"
      ],
      "metadata": {
        "id": "YddYseyFVdlh",
        "colab": {
          "base_uri": "https://localhost:8080/"
        },
        "outputId": "5f319d67-c3e5-48c9-8bab-a23d9dd11132"
      },
      "execution_count": null,
      "outputs": [
        {
          "output_type": "execute_result",
          "data": {
            "text/plain": [
              "(13748, 10)"
            ]
          },
          "metadata": {},
          "execution_count": 6
        }
      ]
    },
    {
      "cell_type": "markdown",
      "source": [
        "There are 13,748 records and 10 variables."
      ],
      "metadata": {
        "id": "XAcHwWGul5Rx"
      }
    },
    {
      "cell_type": "code",
      "source": [
        "#getting basic statistical details\n",
        "df.describe()"
      ],
      "metadata": {
        "id": "M80cdKPDVf-2",
        "colab": {
          "base_uri": "https://localhost:8080/",
          "height": 300
        },
        "outputId": "9498d1d9-fb7b-47bd-d65c-f3347b2edb6e"
      },
      "execution_count": null,
      "outputs": [
        {
          "output_type": "execute_result",
          "data": {
            "text/html": [
              "\n",
              "  <div id=\"df-c9074759-5ee4-4979-b286-1ca8cb20a86e\">\n",
              "    <div class=\"colab-df-container\">\n",
              "      <div>\n",
              "<style scoped>\n",
              "    .dataframe tbody tr th:only-of-type {\n",
              "        vertical-align: middle;\n",
              "    }\n",
              "\n",
              "    .dataframe tbody tr th {\n",
              "        vertical-align: top;\n",
              "    }\n",
              "\n",
              "    .dataframe thead th {\n",
              "        text-align: right;\n",
              "    }\n",
              "</style>\n",
              "<table border=\"1\" class=\"dataframe\">\n",
              "  <thead>\n",
              "    <tr style=\"text-align: right;\">\n",
              "      <th></th>\n",
              "      <th>Start_Year</th>\n",
              "      <th>Start_Month</th>\n",
              "      <th>Enrollment</th>\n",
              "    </tr>\n",
              "  </thead>\n",
              "  <tbody>\n",
              "    <tr>\n",
              "      <th>count</th>\n",
              "      <td>13748.000000</td>\n",
              "      <td>13748.000000</td>\n",
              "      <td>13748.000000</td>\n",
              "    </tr>\n",
              "    <tr>\n",
              "      <th>mean</th>\n",
              "      <td>2009.155586</td>\n",
              "      <td>6.691155</td>\n",
              "      <td>440.783678</td>\n",
              "    </tr>\n",
              "    <tr>\n",
              "      <th>std</th>\n",
              "      <td>4.797615</td>\n",
              "      <td>3.486359</td>\n",
              "      <td>1944.530768</td>\n",
              "    </tr>\n",
              "    <tr>\n",
              "      <th>min</th>\n",
              "      <td>1984.000000</td>\n",
              "      <td>1.000000</td>\n",
              "      <td>0.000000</td>\n",
              "    </tr>\n",
              "    <tr>\n",
              "      <th>25%</th>\n",
              "      <td>2006.000000</td>\n",
              "      <td>4.000000</td>\n",
              "      <td>40.000000</td>\n",
              "    </tr>\n",
              "    <tr>\n",
              "      <th>50%</th>\n",
              "      <td>2009.000000</td>\n",
              "      <td>7.000000</td>\n",
              "      <td>124.000000</td>\n",
              "    </tr>\n",
              "    <tr>\n",
              "      <th>75%</th>\n",
              "      <td>2013.000000</td>\n",
              "      <td>10.000000</td>\n",
              "      <td>365.000000</td>\n",
              "    </tr>\n",
              "    <tr>\n",
              "      <th>max</th>\n",
              "      <td>2020.000000</td>\n",
              "      <td>12.000000</td>\n",
              "      <td>84496.000000</td>\n",
              "    </tr>\n",
              "  </tbody>\n",
              "</table>\n",
              "</div>\n",
              "      <button class=\"colab-df-convert\" onclick=\"convertToInteractive('df-c9074759-5ee4-4979-b286-1ca8cb20a86e')\"\n",
              "              title=\"Convert this dataframe to an interactive table.\"\n",
              "              style=\"display:none;\">\n",
              "        \n",
              "  <svg xmlns=\"http://www.w3.org/2000/svg\" height=\"24px\"viewBox=\"0 0 24 24\"\n",
              "       width=\"24px\">\n",
              "    <path d=\"M0 0h24v24H0V0z\" fill=\"none\"/>\n",
              "    <path d=\"M18.56 5.44l.94 2.06.94-2.06 2.06-.94-2.06-.94-.94-2.06-.94 2.06-2.06.94zm-11 1L8.5 8.5l.94-2.06 2.06-.94-2.06-.94L8.5 2.5l-.94 2.06-2.06.94zm10 10l.94 2.06.94-2.06 2.06-.94-2.06-.94-.94-2.06-.94 2.06-2.06.94z\"/><path d=\"M17.41 7.96l-1.37-1.37c-.4-.4-.92-.59-1.43-.59-.52 0-1.04.2-1.43.59L10.3 9.45l-7.72 7.72c-.78.78-.78 2.05 0 2.83L4 21.41c.39.39.9.59 1.41.59.51 0 1.02-.2 1.41-.59l7.78-7.78 2.81-2.81c.8-.78.8-2.07 0-2.86zM5.41 20L4 18.59l7.72-7.72 1.47 1.35L5.41 20z\"/>\n",
              "  </svg>\n",
              "      </button>\n",
              "      \n",
              "  <style>\n",
              "    .colab-df-container {\n",
              "      display:flex;\n",
              "      flex-wrap:wrap;\n",
              "      gap: 12px;\n",
              "    }\n",
              "\n",
              "    .colab-df-convert {\n",
              "      background-color: #E8F0FE;\n",
              "      border: none;\n",
              "      border-radius: 50%;\n",
              "      cursor: pointer;\n",
              "      display: none;\n",
              "      fill: #1967D2;\n",
              "      height: 32px;\n",
              "      padding: 0 0 0 0;\n",
              "      width: 32px;\n",
              "    }\n",
              "\n",
              "    .colab-df-convert:hover {\n",
              "      background-color: #E2EBFA;\n",
              "      box-shadow: 0px 1px 2px rgba(60, 64, 67, 0.3), 0px 1px 3px 1px rgba(60, 64, 67, 0.15);\n",
              "      fill: #174EA6;\n",
              "    }\n",
              "\n",
              "    [theme=dark] .colab-df-convert {\n",
              "      background-color: #3B4455;\n",
              "      fill: #D2E3FC;\n",
              "    }\n",
              "\n",
              "    [theme=dark] .colab-df-convert:hover {\n",
              "      background-color: #434B5C;\n",
              "      box-shadow: 0px 1px 3px 1px rgba(0, 0, 0, 0.15);\n",
              "      filter: drop-shadow(0px 1px 2px rgba(0, 0, 0, 0.3));\n",
              "      fill: #FFFFFF;\n",
              "    }\n",
              "  </style>\n",
              "\n",
              "      <script>\n",
              "        const buttonEl =\n",
              "          document.querySelector('#df-c9074759-5ee4-4979-b286-1ca8cb20a86e button.colab-df-convert');\n",
              "        buttonEl.style.display =\n",
              "          google.colab.kernel.accessAllowed ? 'block' : 'none';\n",
              "\n",
              "        async function convertToInteractive(key) {\n",
              "          const element = document.querySelector('#df-c9074759-5ee4-4979-b286-1ca8cb20a86e');\n",
              "          const dataTable =\n",
              "            await google.colab.kernel.invokeFunction('convertToInteractive',\n",
              "                                                     [key], {});\n",
              "          if (!dataTable) return;\n",
              "\n",
              "          const docLinkHtml = 'Like what you see? Visit the ' +\n",
              "            '<a target=\"_blank\" href=https://colab.research.google.com/notebooks/data_table.ipynb>data table notebook</a>'\n",
              "            + ' to learn more about interactive tables.';\n",
              "          element.innerHTML = '';\n",
              "          dataTable['output_type'] = 'display_data';\n",
              "          await google.colab.output.renderOutput(dataTable, element);\n",
              "          const docLink = document.createElement('div');\n",
              "          docLink.innerHTML = docLinkHtml;\n",
              "          element.appendChild(docLink);\n",
              "        }\n",
              "      </script>\n",
              "    </div>\n",
              "  </div>\n",
              "  "
            ],
            "text/plain": [
              "         Start_Year   Start_Month    Enrollment\n",
              "count  13748.000000  13748.000000  13748.000000\n",
              "mean    2009.155586      6.691155    440.783678\n",
              "std        4.797615      3.486359   1944.530768\n",
              "min     1984.000000      1.000000      0.000000\n",
              "25%     2006.000000      4.000000     40.000000\n",
              "50%     2009.000000      7.000000    124.000000\n",
              "75%     2013.000000     10.000000    365.000000\n",
              "max     2020.000000     12.000000  84496.000000"
            ]
          },
          "metadata": {},
          "execution_count": 7
        }
      ]
    },
    {
      "cell_type": "markdown",
      "source": [
        "The count,mean,std,min,max and quartiles are shown above."
      ],
      "metadata": {
        "id": "zJtUjqETl-D6"
      }
    },
    {
      "cell_type": "code",
      "source": [
        "#getting the number unique values in each column\n",
        "df.nunique()"
      ],
      "metadata": {
        "id": "m6V_iVNKVjNY",
        "colab": {
          "base_uri": "https://localhost:8080/"
        },
        "outputId": "096aa052-0c9c-4866-fd00-fd123fa93d80"
      },
      "execution_count": null,
      "outputs": [
        {
          "output_type": "execute_result",
          "data": {
            "text/plain": [
              "NCT            13748\n",
              "Sponsor           10\n",
              "Title          13434\n",
              "Summary        13564\n",
              "Start_Year        35\n",
              "Start_Month       12\n",
              "Phase              7\n",
              "Enrollment      1695\n",
              "Status             9\n",
              "Condition        867\n",
              "dtype: int64"
            ]
          },
          "metadata": {},
          "execution_count": 8
        }
      ]
    },
    {
      "cell_type": "markdown",
      "source": [
        "These are the number of unique values in each column."
      ],
      "metadata": {
        "id": "XMwnjdUxmGJx"
      }
    },
    {
      "cell_type": "code",
      "source": [
        "#checking for missing values\n",
        "df.isnull().sum().sum()"
      ],
      "metadata": {
        "id": "tu0S6Cw9zW16",
        "colab": {
          "base_uri": "https://localhost:8080/"
        },
        "outputId": "dbf6128b-2d2f-4a5f-a34c-71cf7720ade3"
      },
      "execution_count": null,
      "outputs": [
        {
          "output_type": "execute_result",
          "data": {
            "text/plain": [
              "418"
            ]
          },
          "metadata": {},
          "execution_count": 9
        }
      ]
    },
    {
      "cell_type": "markdown",
      "source": [
        "There are 418 missing values."
      ],
      "metadata": {
        "id": "IkO5oXM2mLC6"
      }
    },
    {
      "cell_type": "markdown",
      "source": [
        "## **4. Data Cleaning**"
      ],
      "metadata": {
        "id": "WLTT_GjwhKwA"
      }
    },
    {
      "cell_type": "markdown",
      "source": [
        "> This done by following the data integrity rules i.e Validity, Accuracy, Completeness, Consistency, Uniformity to ensure the data is ready for analysis"
      ],
      "metadata": {
        "id": "ZEuYeGuQhOBP"
      }
    },
    {
      "cell_type": "markdown",
      "source": [
        "### 4.1 Completeness"
      ],
      "metadata": {
        "id": "L4ykTkFrhT9a"
      }
    },
    {
      "cell_type": "code",
      "source": [
        "#checking for null values across each column\n",
        "df.isnull().sum()"
      ],
      "metadata": {
        "id": "_5MUmDeYtDdX",
        "colab": {
          "base_uri": "https://localhost:8080/"
        },
        "outputId": "85f2e3ba-0436-43f8-d932-2f708cdd859e"
      },
      "execution_count": null,
      "outputs": [
        {
          "output_type": "execute_result",
          "data": {
            "text/plain": [
              "NCT              0\n",
              "Sponsor          0\n",
              "Title          144\n",
              "Summary         11\n",
              "Start_Year       0\n",
              "Start_Month      0\n",
              "Phase          263\n",
              "Enrollment       0\n",
              "Status           0\n",
              "Condition        0\n",
              "dtype: int64"
            ]
          },
          "metadata": {},
          "execution_count": 10
        }
      ]
    },
    {
      "cell_type": "markdown",
      "source": [
        "Title, Summary and Phase columns have unique values."
      ],
      "metadata": {
        "id": "OlfDLkPhU1vg"
      }
    },
    {
      "cell_type": "code",
      "source": [
        "#Checking for the percentage of the missing values\n",
        "df.isna().mean().round(4) * 100"
      ],
      "metadata": {
        "id": "Ufp8JOJF5ShV",
        "colab": {
          "base_uri": "https://localhost:8080/"
        },
        "outputId": "7c9e0e70-aacd-4f1d-d21c-ac81342aa6cb"
      },
      "execution_count": null,
      "outputs": [
        {
          "output_type": "execute_result",
          "data": {
            "text/plain": [
              "NCT            0.00\n",
              "Sponsor        0.00\n",
              "Title          1.05\n",
              "Summary        0.08\n",
              "Start_Year     0.00\n",
              "Start_Month    0.00\n",
              "Phase          1.91\n",
              "Enrollment     0.00\n",
              "Status         0.00\n",
              "Condition      0.00\n",
              "dtype: float64"
            ]
          },
          "metadata": {},
          "execution_count": 11
        }
      ]
    },
    {
      "cell_type": "code",
      "source": [
        "#After Checking percentage of the missing values\n",
        "#We replaced the missing values with unknown in the title and phase columns\n",
        "nulls='unknown'\n",
        "df['Title'].fillna(nulls,inplace=True)\n",
        "df['Phase'].fillna(nulls,inplace=True)\n",
        "df.head(5)"
      ],
      "metadata": {
        "id": "EysuLm-l5Z3i",
        "colab": {
          "base_uri": "https://localhost:8080/",
          "height": 528
        },
        "outputId": "d04d70da-ec8c-47d9-ba1c-971146ca744a"
      },
      "execution_count": null,
      "outputs": [
        {
          "output_type": "execute_result",
          "data": {
            "text/html": [
              "\n",
              "  <div id=\"df-fbb8b5b4-f814-452e-a265-56a774c5dd2f\">\n",
              "    <div class=\"colab-df-container\">\n",
              "      <div>\n",
              "<style scoped>\n",
              "    .dataframe tbody tr th:only-of-type {\n",
              "        vertical-align: middle;\n",
              "    }\n",
              "\n",
              "    .dataframe tbody tr th {\n",
              "        vertical-align: top;\n",
              "    }\n",
              "\n",
              "    .dataframe thead th {\n",
              "        text-align: right;\n",
              "    }\n",
              "</style>\n",
              "<table border=\"1\" class=\"dataframe\">\n",
              "  <thead>\n",
              "    <tr style=\"text-align: right;\">\n",
              "      <th></th>\n",
              "      <th>NCT</th>\n",
              "      <th>Sponsor</th>\n",
              "      <th>Title</th>\n",
              "      <th>Summary</th>\n",
              "      <th>Start_Year</th>\n",
              "      <th>Start_Month</th>\n",
              "      <th>Phase</th>\n",
              "      <th>Enrollment</th>\n",
              "      <th>Status</th>\n",
              "      <th>Condition</th>\n",
              "    </tr>\n",
              "  </thead>\n",
              "  <tbody>\n",
              "    <tr>\n",
              "      <th>0</th>\n",
              "      <td>NCT00003305</td>\n",
              "      <td>Sanofi</td>\n",
              "      <td>A Phase II Trial of Aminopterin in Adults and ...</td>\n",
              "      <td>RATIONALE: Drugs used in chemotherapy use diff...</td>\n",
              "      <td>1997</td>\n",
              "      <td>7</td>\n",
              "      <td>Phase 2</td>\n",
              "      <td>75</td>\n",
              "      <td>Completed</td>\n",
              "      <td>Leukemia</td>\n",
              "    </tr>\n",
              "    <tr>\n",
              "      <th>1</th>\n",
              "      <td>NCT00003821</td>\n",
              "      <td>Sanofi</td>\n",
              "      <td>Phase II Trial of Aminopterin in Patients With...</td>\n",
              "      <td>RATIONALE: Drugs used in chemotherapy use diff...</td>\n",
              "      <td>1998</td>\n",
              "      <td>1</td>\n",
              "      <td>Phase 2</td>\n",
              "      <td>0</td>\n",
              "      <td>Withdrawn</td>\n",
              "      <td>Endometrial Neoplasms</td>\n",
              "    </tr>\n",
              "    <tr>\n",
              "      <th>2</th>\n",
              "      <td>NCT00004025</td>\n",
              "      <td>Sanofi</td>\n",
              "      <td>Phase I/II Trial of the Safety, Immunogenicity...</td>\n",
              "      <td>RATIONALE: Vaccines made from a person's white...</td>\n",
              "      <td>1999</td>\n",
              "      <td>3</td>\n",
              "      <td>Phase 1/Phase 2</td>\n",
              "      <td>36</td>\n",
              "      <td>Unknown status</td>\n",
              "      <td>Melanoma</td>\n",
              "    </tr>\n",
              "    <tr>\n",
              "      <th>3</th>\n",
              "      <td>NCT00005645</td>\n",
              "      <td>Sanofi</td>\n",
              "      <td>Phase II Trial of ILX295501 Administered Orall...</td>\n",
              "      <td>RATIONALE: Drugs used in chemotherapy use diff...</td>\n",
              "      <td>1999</td>\n",
              "      <td>5</td>\n",
              "      <td>Phase 2</td>\n",
              "      <td>0</td>\n",
              "      <td>Withdrawn</td>\n",
              "      <td>Ovarian Neoplasms</td>\n",
              "    </tr>\n",
              "    <tr>\n",
              "      <th>4</th>\n",
              "      <td>NCT00008281</td>\n",
              "      <td>Sanofi</td>\n",
              "      <td>A Multicenter, Open-Label, Randomized, Three-A...</td>\n",
              "      <td>RATIONALE: Drugs used in chemotherapy use diff...</td>\n",
              "      <td>2000</td>\n",
              "      <td>10</td>\n",
              "      <td>Phase 3</td>\n",
              "      <td>0</td>\n",
              "      <td>Unknown status</td>\n",
              "      <td>Colorectal Neoplasms</td>\n",
              "    </tr>\n",
              "  </tbody>\n",
              "</table>\n",
              "</div>\n",
              "      <button class=\"colab-df-convert\" onclick=\"convertToInteractive('df-fbb8b5b4-f814-452e-a265-56a774c5dd2f')\"\n",
              "              title=\"Convert this dataframe to an interactive table.\"\n",
              "              style=\"display:none;\">\n",
              "        \n",
              "  <svg xmlns=\"http://www.w3.org/2000/svg\" height=\"24px\"viewBox=\"0 0 24 24\"\n",
              "       width=\"24px\">\n",
              "    <path d=\"M0 0h24v24H0V0z\" fill=\"none\"/>\n",
              "    <path d=\"M18.56 5.44l.94 2.06.94-2.06 2.06-.94-2.06-.94-.94-2.06-.94 2.06-2.06.94zm-11 1L8.5 8.5l.94-2.06 2.06-.94-2.06-.94L8.5 2.5l-.94 2.06-2.06.94zm10 10l.94 2.06.94-2.06 2.06-.94-2.06-.94-.94-2.06-.94 2.06-2.06.94z\"/><path d=\"M17.41 7.96l-1.37-1.37c-.4-.4-.92-.59-1.43-.59-.52 0-1.04.2-1.43.59L10.3 9.45l-7.72 7.72c-.78.78-.78 2.05 0 2.83L4 21.41c.39.39.9.59 1.41.59.51 0 1.02-.2 1.41-.59l7.78-7.78 2.81-2.81c.8-.78.8-2.07 0-2.86zM5.41 20L4 18.59l7.72-7.72 1.47 1.35L5.41 20z\"/>\n",
              "  </svg>\n",
              "      </button>\n",
              "      \n",
              "  <style>\n",
              "    .colab-df-container {\n",
              "      display:flex;\n",
              "      flex-wrap:wrap;\n",
              "      gap: 12px;\n",
              "    }\n",
              "\n",
              "    .colab-df-convert {\n",
              "      background-color: #E8F0FE;\n",
              "      border: none;\n",
              "      border-radius: 50%;\n",
              "      cursor: pointer;\n",
              "      display: none;\n",
              "      fill: #1967D2;\n",
              "      height: 32px;\n",
              "      padding: 0 0 0 0;\n",
              "      width: 32px;\n",
              "    }\n",
              "\n",
              "    .colab-df-convert:hover {\n",
              "      background-color: #E2EBFA;\n",
              "      box-shadow: 0px 1px 2px rgba(60, 64, 67, 0.3), 0px 1px 3px 1px rgba(60, 64, 67, 0.15);\n",
              "      fill: #174EA6;\n",
              "    }\n",
              "\n",
              "    [theme=dark] .colab-df-convert {\n",
              "      background-color: #3B4455;\n",
              "      fill: #D2E3FC;\n",
              "    }\n",
              "\n",
              "    [theme=dark] .colab-df-convert:hover {\n",
              "      background-color: #434B5C;\n",
              "      box-shadow: 0px 1px 3px 1px rgba(0, 0, 0, 0.15);\n",
              "      filter: drop-shadow(0px 1px 2px rgba(0, 0, 0, 0.3));\n",
              "      fill: #FFFFFF;\n",
              "    }\n",
              "  </style>\n",
              "\n",
              "      <script>\n",
              "        const buttonEl =\n",
              "          document.querySelector('#df-fbb8b5b4-f814-452e-a265-56a774c5dd2f button.colab-df-convert');\n",
              "        buttonEl.style.display =\n",
              "          google.colab.kernel.accessAllowed ? 'block' : 'none';\n",
              "\n",
              "        async function convertToInteractive(key) {\n",
              "          const element = document.querySelector('#df-fbb8b5b4-f814-452e-a265-56a774c5dd2f');\n",
              "          const dataTable =\n",
              "            await google.colab.kernel.invokeFunction('convertToInteractive',\n",
              "                                                     [key], {});\n",
              "          if (!dataTable) return;\n",
              "\n",
              "          const docLinkHtml = 'Like what you see? Visit the ' +\n",
              "            '<a target=\"_blank\" href=https://colab.research.google.com/notebooks/data_table.ipynb>data table notebook</a>'\n",
              "            + ' to learn more about interactive tables.';\n",
              "          element.innerHTML = '';\n",
              "          dataTable['output_type'] = 'display_data';\n",
              "          await google.colab.output.renderOutput(dataTable, element);\n",
              "          const docLink = document.createElement('div');\n",
              "          docLink.innerHTML = docLinkHtml;\n",
              "          element.appendChild(docLink);\n",
              "        }\n",
              "      </script>\n",
              "    </div>\n",
              "  </div>\n",
              "  "
            ],
            "text/plain": [
              "           NCT Sponsor  ...          Status              Condition\n",
              "0  NCT00003305  Sanofi  ...       Completed               Leukemia\n",
              "1  NCT00003821  Sanofi  ...       Withdrawn  Endometrial Neoplasms\n",
              "2  NCT00004025  Sanofi  ...  Unknown status               Melanoma\n",
              "3  NCT00005645  Sanofi  ...       Withdrawn      Ovarian Neoplasms\n",
              "4  NCT00008281  Sanofi  ...  Unknown status   Colorectal Neoplasms\n",
              "\n",
              "[5 rows x 10 columns]"
            ]
          },
          "metadata": {},
          "execution_count": 12
        }
      ]
    },
    {
      "cell_type": "markdown",
      "source": [
        "We filled with unknown since we do not want to assume that no data was available."
      ],
      "metadata": {
        "id": "XxSIoGdOVDt3"
      }
    },
    {
      "cell_type": "markdown",
      "source": [
        "### 4.2 Validity"
      ],
      "metadata": {
        "id": "QgFIuqz-hWj4"
      }
    },
    {
      "cell_type": "code",
      "source": [
        "#Irrelevant Data\n",
        "#Drop columns we do not need.\n",
        "#\n",
        "df=df.drop(['Summary'], axis = 1)"
      ],
      "metadata": {
        "id": "OMBLVtozs-GP"
      },
      "execution_count": null,
      "outputs": []
    },
    {
      "cell_type": "markdown",
      "source": [
        "The Summary column was not necessary for our analysis."
      ],
      "metadata": {
        "id": "WjWSHVx8434O"
      }
    },
    {
      "cell_type": "code",
      "source": [
        "# Replacing spaces in the column names with underscore\n",
        "df.columns= df.columns.str.replace(\" \", \"_\")"
      ],
      "metadata": {
        "id": "Odq7X94ugdc_"
      },
      "execution_count": null,
      "outputs": []
    },
    {
      "cell_type": "markdown",
      "source": [
        "To make our columns look neater."
      ],
      "metadata": {
        "id": "nQYGYsgp5FKr"
      }
    },
    {
      "cell_type": "code",
      "source": [
        "# Changing column names to lower case\n",
        "df.columns= df.columns.str.lower()\n"
      ],
      "metadata": {
        "id": "k1iOvfkjh9eT"
      },
      "execution_count": null,
      "outputs": []
    },
    {
      "cell_type": "code",
      "source": [
        "#checking outliers\n",
        "plt.figure(figsize=(10, 4))\n",
        "df.boxplot(['enrollment'])\n",
        "plt.title('enrollment')\n",
        "plt.show()"
      ],
      "metadata": {
        "colab": {
          "base_uri": "https://localhost:8080/",
          "height": 281
        },
        "id": "VOSHFrdslyaG",
        "outputId": "2342d280-906a-4b40-86b5-167bb3dc1c13"
      },
      "execution_count": null,
      "outputs": [
        {
          "output_type": "display_data",
          "data": {
            "image/png": "[encoded data removed]",
            "text/plain": [
              "<Figure size 720x288 with 1 Axes>"
            ]
          },
          "metadata": {
            "needs_background": "light"
          }
        }
      ]
    },
    {
      "cell_type": "markdown",
      "source": [
        "There are existing outliers but they won't be dropped as they are true values to the data,i.e, represent real time data."
      ],
      "metadata": {
        "id": "nvYxZGsTnpAN"
      }
    },
    {
      "cell_type": "code",
      "source": [
        "#inspecting our dataset\n",
        "# Checking for Anomalies in enrollment column\n",
        "\n",
        "q1_taken = df['enrollment'].quantile(.25)\n",
        "q3_taken = df['enrollment'].quantile(.75)\n",
        "\n",
        "iqr_taken = q3_taken - q1_taken\n",
        "\n",
        "print(iqr_taken)"
      ],
      "metadata": {
        "colab": {
          "base_uri": "https://localhost:8080/"
        },
        "id": "Uqz70IbvoCby",
        "outputId": "c7accfac-056c-4c86-c609-c6a504398e17"
      },
      "execution_count": null,
      "outputs": [
        {
          "output_type": "stream",
          "name": "stdout",
          "text": [
            "325.0\n"
          ]
        }
      ]
    },
    {
      "cell_type": "markdown",
      "source": [
        "The results indicate that 325 entries in the enrollment column were not within the middle of 50% of the column."
      ],
      "metadata": {
        "id": "AYjq1qBU0wZW"
      }
    },
    {
      "cell_type": "markdown",
      "source": [
        "### 4.3 Consistency"
      ],
      "metadata": {
        "id": "I0TT-mg0hbYS"
      }
    },
    {
      "cell_type": "code",
      "source": [
        "#checking for duplicates\n",
        "df.duplicated().sum()"
      ],
      "metadata": {
        "colab": {
          "base_uri": "https://localhost:8080/"
        },
        "id": "gN0iuQEBXFfk",
        "outputId": "bb150e9a-848f-498f-f528-d4457c46ec12"
      },
      "execution_count": null,
      "outputs": [
        {
          "output_type": "execute_result",
          "data": {
            "text/plain": [
              "0"
            ]
          },
          "metadata": {},
          "execution_count": 18
        }
      ]
    },
    {
      "cell_type": "markdown",
      "source": [
        "No duplicates."
      ],
      "metadata": {
        "id": "DD5bTa9F2J9S"
      }
    },
    {
      "cell_type": "markdown",
      "source": [
        "### 4.4 Uniformity"
      ],
      "metadata": {
        "id": "Uv8crjERhejA"
      }
    },
    {
      "cell_type": "code",
      "source": [
        "#no action was done"
      ],
      "metadata": {
        "id": "VybZz6B8WnAU"
      },
      "execution_count": null,
      "outputs": []
    },
    {
      "cell_type": "markdown",
      "source": [
        "### 4.5 Accuracy"
      ],
      "metadata": {
        "id": "K_EZ6PPstczL"
      }
    },
    {
      "cell_type": "code",
      "source": [
        "#no action was done"
      ],
      "metadata": {
        "id": "b5bCLQQsjhfx"
      },
      "execution_count": null,
      "outputs": []
    },
    {
      "cell_type": "markdown",
      "source": [
        "# Exporting our new Dataset"
      ],
      "metadata": {
        "id": "Iyq9D-F1pESh"
      }
    },
    {
      "cell_type": "code",
      "source": [
        "# Let's export our dataframe into a csv file as shown \n",
        "# we use the to_csv function to create a csv file and export it\n",
        "\n",
        "df.to_csv('New_Aero_Data.csv')\n",
        "df2 = pd.read_csv('New_Aero_Data.csv', index_col=0)\n",
        "df2.head(5)"
      ],
      "metadata": {
        "colab": {
          "base_uri": "https://localhost:8080/",
          "height": 372
        },
        "id": "tzRQ_BBApIWO",
        "outputId": "29fd135a-9673-4d0a-d8e7-74cb506b8952"
      },
      "execution_count": null,
      "outputs": [
        {
          "output_type": "execute_result",
          "data": {
            "text/html": [
              "\n",
              "  <div id=\"df-2a69da8d-e4b1-44eb-80b9-2ca0b3717f94\">\n",
              "    <div class=\"colab-df-container\">\n",
              "      <div>\n",
              "<style scoped>\n",
              "    .dataframe tbody tr th:only-of-type {\n",
              "        vertical-align: middle;\n",
              "    }\n",
              "\n",
              "    .dataframe tbody tr th {\n",
              "        vertical-align: top;\n",
              "    }\n",
              "\n",
              "    .dataframe thead th {\n",
              "        text-align: right;\n",
              "    }\n",
              "</style>\n",
              "<table border=\"1\" class=\"dataframe\">\n",
              "  <thead>\n",
              "    <tr style=\"text-align: right;\">\n",
              "      <th></th>\n",
              "      <th>nct</th>\n",
              "      <th>sponsor</th>\n",
              "      <th>title</th>\n",
              "      <th>start_year</th>\n",
              "      <th>start_month</th>\n",
              "      <th>phase</th>\n",
              "      <th>enrollment</th>\n",
              "      <th>status</th>\n",
              "      <th>condition</th>\n",
              "    </tr>\n",
              "  </thead>\n",
              "  <tbody>\n",
              "    <tr>\n",
              "      <th>0</th>\n",
              "      <td>NCT00003305</td>\n",
              "      <td>Sanofi</td>\n",
              "      <td>A Phase II Trial of Aminopterin in Adults and ...</td>\n",
              "      <td>1997</td>\n",
              "      <td>7</td>\n",
              "      <td>Phase 2</td>\n",
              "      <td>75</td>\n",
              "      <td>Completed</td>\n",
              "      <td>Leukemia</td>\n",
              "    </tr>\n",
              "    <tr>\n",
              "      <th>1</th>\n",
              "      <td>NCT00003821</td>\n",
              "      <td>Sanofi</td>\n",
              "      <td>Phase II Trial of Aminopterin in Patients With...</td>\n",
              "      <td>1998</td>\n",
              "      <td>1</td>\n",
              "      <td>Phase 2</td>\n",
              "      <td>0</td>\n",
              "      <td>Withdrawn</td>\n",
              "      <td>Endometrial Neoplasms</td>\n",
              "    </tr>\n",
              "    <tr>\n",
              "      <th>2</th>\n",
              "      <td>NCT00004025</td>\n",
              "      <td>Sanofi</td>\n",
              "      <td>Phase I/II Trial of the Safety, Immunogenicity...</td>\n",
              "      <td>1999</td>\n",
              "      <td>3</td>\n",
              "      <td>Phase 1/Phase 2</td>\n",
              "      <td>36</td>\n",
              "      <td>Unknown status</td>\n",
              "      <td>Melanoma</td>\n",
              "    </tr>\n",
              "    <tr>\n",
              "      <th>3</th>\n",
              "      <td>NCT00005645</td>\n",
              "      <td>Sanofi</td>\n",
              "      <td>Phase II Trial of ILX295501 Administered Orall...</td>\n",
              "      <td>1999</td>\n",
              "      <td>5</td>\n",
              "      <td>Phase 2</td>\n",
              "      <td>0</td>\n",
              "      <td>Withdrawn</td>\n",
              "      <td>Ovarian Neoplasms</td>\n",
              "    </tr>\n",
              "    <tr>\n",
              "      <th>4</th>\n",
              "      <td>NCT00008281</td>\n",
              "      <td>Sanofi</td>\n",
              "      <td>A Multicenter, Open-Label, Randomized, Three-A...</td>\n",
              "      <td>2000</td>\n",
              "      <td>10</td>\n",
              "      <td>Phase 3</td>\n",
              "      <td>0</td>\n",
              "      <td>Unknown status</td>\n",
              "      <td>Colorectal Neoplasms</td>\n",
              "    </tr>\n",
              "  </tbody>\n",
              "</table>\n",
              "</div>\n",
              "      <button class=\"colab-df-convert\" onclick=\"convertToInteractive('df-2a69da8d-e4b1-44eb-80b9-2ca0b3717f94')\"\n",
              "              title=\"Convert this dataframe to an interactive table.\"\n",
              "              style=\"display:none;\">\n",
              "        \n",
              "  <svg xmlns=\"http://www.w3.org/2000/svg\" height=\"24px\"viewBox=\"0 0 24 24\"\n",
              "       width=\"24px\">\n",
              "    <path d=\"M0 0h24v24H0V0z\" fill=\"none\"/>\n",
              "    <path d=\"M18.56 5.44l.94 2.06.94-2.06 2.06-.94-2.06-.94-.94-2.06-.94 2.06-2.06.94zm-11 1L8.5 8.5l.94-2.06 2.06-.94-2.06-.94L8.5 2.5l-.94 2.06-2.06.94zm10 10l.94 2.06.94-2.06 2.06-.94-2.06-.94-.94-2.06-.94 2.06-2.06.94z\"/><path d=\"M17.41 7.96l-1.37-1.37c-.4-.4-.92-.59-1.43-.59-.52 0-1.04.2-1.43.59L10.3 9.45l-7.72 7.72c-.78.78-.78 2.05 0 2.83L4 21.41c.39.39.9.59 1.41.59.51 0 1.02-.2 1.41-.59l7.78-7.78 2.81-2.81c.8-.78.8-2.07 0-2.86zM5.41 20L4 18.59l7.72-7.72 1.47 1.35L5.41 20z\"/>\n",
              "  </svg>\n",
              "      </button>\n",
              "      \n",
              "  <style>\n",
              "    .colab-df-container {\n",
              "      display:flex;\n",
              "      flex-wrap:wrap;\n",
              "      gap: 12px;\n",
              "    }\n",
              "\n",
              "    .colab-df-convert {\n",
              "      background-color: #E8F0FE;\n",
              "      border: none;\n",
              "      border-radius: 50%;\n",
              "      cursor: pointer;\n",
              "      display: none;\n",
              "      fill: #1967D2;\n",
              "      height: 32px;\n",
              "      padding: 0 0 0 0;\n",
              "      width: 32px;\n",
              "    }\n",
              "\n",
              "    .colab-df-convert:hover {\n",
              "      background-color: #E2EBFA;\n",
              "      box-shadow: 0px 1px 2px rgba(60, 64, 67, 0.3), 0px 1px 3px 1px rgba(60, 64, 67, 0.15);\n",
              "      fill: #174EA6;\n",
              "    }\n",
              "\n",
              "    [theme=dark] .colab-df-convert {\n",
              "      background-color: #3B4455;\n",
              "      fill: #D2E3FC;\n",
              "    }\n",
              "\n",
              "    [theme=dark] .colab-df-convert:hover {\n",
              "      background-color: #434B5C;\n",
              "      box-shadow: 0px 1px 3px 1px rgba(0, 0, 0, 0.15);\n",
              "      filter: drop-shadow(0px 1px 2px rgba(0, 0, 0, 0.3));\n",
              "      fill: #FFFFFF;\n",
              "    }\n",
              "  </style>\n",
              "\n",
              "      <script>\n",
              "        const buttonEl =\n",
              "          document.querySelector('#df-2a69da8d-e4b1-44eb-80b9-2ca0b3717f94 button.colab-df-convert');\n",
              "        buttonEl.style.display =\n",
              "          google.colab.kernel.accessAllowed ? 'block' : 'none';\n",
              "\n",
              "        async function convertToInteractive(key) {\n",
              "          const element = document.querySelector('#df-2a69da8d-e4b1-44eb-80b9-2ca0b3717f94');\n",
              "          const dataTable =\n",
              "            await google.colab.kernel.invokeFunction('convertToInteractive',\n",
              "                                                     [key], {});\n",
              "          if (!dataTable) return;\n",
              "\n",
              "          const docLinkHtml = 'Like what you see? Visit the ' +\n",
              "            '<a target=\"_blank\" href=https://colab.research.google.com/notebooks/data_table.ipynb>data table notebook</a>'\n",
              "            + ' to learn more about interactive tables.';\n",
              "          element.innerHTML = '';\n",
              "          dataTable['output_type'] = 'display_data';\n",
              "          await google.colab.output.renderOutput(dataTable, element);\n",
              "          const docLink = document.createElement('div');\n",
              "          docLink.innerHTML = docLinkHtml;\n",
              "          element.appendChild(docLink);\n",
              "        }\n",
              "      </script>\n",
              "    </div>\n",
              "  </div>\n",
              "  "
            ],
            "text/plain": [
              "           nct sponsor  ...          status              condition\n",
              "0  NCT00003305  Sanofi  ...       Completed               Leukemia\n",
              "1  NCT00003821  Sanofi  ...       Withdrawn  Endometrial Neoplasms\n",
              "2  NCT00004025  Sanofi  ...  Unknown status               Melanoma\n",
              "3  NCT00005645  Sanofi  ...       Withdrawn      Ovarian Neoplasms\n",
              "4  NCT00008281  Sanofi  ...  Unknown status   Colorectal Neoplasms\n",
              "\n",
              "[5 rows x 9 columns]"
            ]
          },
          "metadata": {},
          "execution_count": 21
        }
      ]
    },
    {
      "cell_type": "markdown",
      "source": [
        "## **5. Exploratory Data Analysis**"
      ],
      "metadata": {
        "id": "YSkeiYXChipQ"
      }
    },
    {
      "cell_type": "markdown",
      "source": [
        "### Univariate Analysis"
      ],
      "metadata": {
        "id": "xmR3piseh7UM"
      }
    },
    {
      "cell_type": "markdown",
      "source": [
        "#### Measures of central Tendacies"
      ],
      "metadata": {
        "id": "LHMWBa8JtPzT"
      }
    },
    {
      "cell_type": "code",
      "source": [
        "#using for loops to get the mean, mode and median for the enrollment column\n",
        "numerical_columns=['enrollment']\n",
        "for column in numerical_columns:\n",
        "  print('\\n')\n",
        "  print(column + ', Mean: ' + str(df2[column].mean()))\n",
        "  print(column + ', Mode: ' + str(df2[column].mode()))\n",
        "  print(column + ', Median: ' + str(df2[column].median()))\n"
      ],
      "metadata": {
        "colab": {
          "base_uri": "https://localhost:8080/"
        },
        "id": "kGCvvFTAaK9V",
        "outputId": "13f5180c-d665-4f4e-9e1f-ba32f66bc58a"
      },
      "execution_count": null,
      "outputs": [
        {
          "output_type": "stream",
          "name": "stdout",
          "text": [
            "\n",
            "\n",
            "enrollment, Mean: 440.7836776258365\n",
            "enrollment, Mode: 0    0\n",
            "dtype: int64\n",
            "enrollment, Median: 124.0\n"
          ]
        }
      ]
    },
    {
      "cell_type": "code",
      "source": [
        "#getting the mode for start year and start month columns\n",
        "df2[['start_month','start_year']].mode()"
      ],
      "metadata": {
        "colab": {
          "base_uri": "https://localhost:8080/",
          "height": 81
        },
        "id": "8NDAgB5Mc-6_",
        "outputId": "9c94785b-d530-4e7b-def8-d155f1deadc8"
      },
      "execution_count": null,
      "outputs": [
        {
          "output_type": "execute_result",
          "data": {
            "text/html": [
              "\n",
              "  <div id=\"df-e716102c-bd95-41b1-a169-9124866d1dfe\">\n",
              "    <div class=\"colab-df-container\">\n",
              "      <div>\n",
              "<style scoped>\n",
              "    .dataframe tbody tr th:only-of-type {\n",
              "        vertical-align: middle;\n",
              "    }\n",
              "\n",
              "    .dataframe tbody tr th {\n",
              "        vertical-align: top;\n",
              "    }\n",
              "\n",
              "    .dataframe thead th {\n",
              "        text-align: right;\n",
              "    }\n",
              "</style>\n",
              "<table border=\"1\" class=\"dataframe\">\n",
              "  <thead>\n",
              "    <tr style=\"text-align: right;\">\n",
              "      <th></th>\n",
              "      <th>start_month</th>\n",
              "      <th>start_year</th>\n",
              "    </tr>\n",
              "  </thead>\n",
              "  <tbody>\n",
              "    <tr>\n",
              "      <th>0</th>\n",
              "      <td>10</td>\n",
              "      <td>2007</td>\n",
              "    </tr>\n",
              "  </tbody>\n",
              "</table>\n",
              "</div>\n",
              "      <button class=\"colab-df-convert\" onclick=\"convertToInteractive('df-e716102c-bd95-41b1-a169-9124866d1dfe')\"\n",
              "              title=\"Convert this dataframe to an interactive table.\"\n",
              "              style=\"display:none;\">\n",
              "        \n",
              "  <svg xmlns=\"http://www.w3.org/2000/svg\" height=\"24px\"viewBox=\"0 0 24 24\"\n",
              "       width=\"24px\">\n",
              "    <path d=\"M0 0h24v24H0V0z\" fill=\"none\"/>\n",
              "    <path d=\"M18.56 5.44l.94 2.06.94-2.06 2.06-.94-2.06-.94-.94-2.06-.94 2.06-2.06.94zm-11 1L8.5 8.5l.94-2.06 2.06-.94-2.06-.94L8.5 2.5l-.94 2.06-2.06.94zm10 10l.94 2.06.94-2.06 2.06-.94-2.06-.94-.94-2.06-.94 2.06-2.06.94z\"/><path d=\"M17.41 7.96l-1.37-1.37c-.4-.4-.92-.59-1.43-.59-.52 0-1.04.2-1.43.59L10.3 9.45l-7.72 7.72c-.78.78-.78 2.05 0 2.83L4 21.41c.39.39.9.59 1.41.59.51 0 1.02-.2 1.41-.59l7.78-7.78 2.81-2.81c.8-.78.8-2.07 0-2.86zM5.41 20L4 18.59l7.72-7.72 1.47 1.35L5.41 20z\"/>\n",
              "  </svg>\n",
              "      </button>\n",
              "      \n",
              "  <style>\n",
              "    .colab-df-container {\n",
              "      display:flex;\n",
              "      flex-wrap:wrap;\n",
              "      gap: 12px;\n",
              "    }\n",
              "\n",
              "    .colab-df-convert {\n",
              "      background-color: #E8F0FE;\n",
              "      border: none;\n",
              "      border-radius: 50%;\n",
              "      cursor: pointer;\n",
              "      display: none;\n",
              "      fill: #1967D2;\n",
              "      height: 32px;\n",
              "      padding: 0 0 0 0;\n",
              "      width: 32px;\n",
              "    }\n",
              "\n",
              "    .colab-df-convert:hover {\n",
              "      background-color: #E2EBFA;\n",
              "      box-shadow: 0px 1px 2px rgba(60, 64, 67, 0.3), 0px 1px 3px 1px rgba(60, 64, 67, 0.15);\n",
              "      fill: #174EA6;\n",
              "    }\n",
              "\n",
              "    [theme=dark] .colab-df-convert {\n",
              "      background-color: #3B4455;\n",
              "      fill: #D2E3FC;\n",
              "    }\n",
              "\n",
              "    [theme=dark] .colab-df-convert:hover {\n",
              "      background-color: #434B5C;\n",
              "      box-shadow: 0px 1px 3px 1px rgba(0, 0, 0, 0.15);\n",
              "      filter: drop-shadow(0px 1px 2px rgba(0, 0, 0, 0.3));\n",
              "      fill: #FFFFFF;\n",
              "    }\n",
              "  </style>\n",
              "\n",
              "      <script>\n",
              "        const buttonEl =\n",
              "          document.querySelector('#df-e716102c-bd95-41b1-a169-9124866d1dfe button.colab-df-convert');\n",
              "        buttonEl.style.display =\n",
              "          google.colab.kernel.accessAllowed ? 'block' : 'none';\n",
              "\n",
              "        async function convertToInteractive(key) {\n",
              "          const element = document.querySelector('#df-e716102c-bd95-41b1-a169-9124866d1dfe');\n",
              "          const dataTable =\n",
              "            await google.colab.kernel.invokeFunction('convertToInteractive',\n",
              "                                                     [key], {});\n",
              "          if (!dataTable) return;\n",
              "\n",
              "          const docLinkHtml = 'Like what you see? Visit the ' +\n",
              "            '<a target=\"_blank\" href=https://colab.research.google.com/notebooks/data_table.ipynb>data table notebook</a>'\n",
              "            + ' to learn more about interactive tables.';\n",
              "          element.innerHTML = '';\n",
              "          dataTable['output_type'] = 'display_data';\n",
              "          await google.colab.output.renderOutput(dataTable, element);\n",
              "          const docLink = document.createElement('div');\n",
              "          docLink.innerHTML = docLinkHtml;\n",
              "          element.appendChild(docLink);\n",
              "        }\n",
              "      </script>\n",
              "    </div>\n",
              "  </div>\n",
              "  "
            ],
            "text/plain": [
              "   start_month  start_year\n",
              "0           10        2007"
            ]
          },
          "metadata": {},
          "execution_count": 23
        }
      ]
    },
    {
      "cell_type": "markdown",
      "source": [
        "#### Measures of dispersion"
      ],
      "metadata": {
        "id": "JVKP_qm8t6wm"
      }
    },
    {
      "cell_type": "code",
      "source": [
        "numerical_columns=['enrollment']\n",
        "for column in numerical_columns:\n",
        "  print('\\n')\n",
        "  print(column + ', Standard deviation: ' + str(df2[column].std()))\n",
        "  print(column + ', Variance: ' + str(df2[column].var()))\n",
        "  print(column + ', Skewness: ' + str(df2[column].skew()))\n",
        "  print(column + ', Kurtosis: ' + str(df2[column].kurt()))\n",
        "  print(column + ', Quartiles: ' + str(df2[column].quantile([0.25,0.5,0.75])))"
      ],
      "metadata": {
        "colab": {
          "base_uri": "https://localhost:8080/"
        },
        "id": "PQb41EhQbAQ0",
        "outputId": "df270940-3e51-45ad-ae0d-992fe656da22"
      },
      "execution_count": null,
      "outputs": [
        {
          "output_type": "stream",
          "name": "stdout",
          "text": [
            "\n",
            "\n",
            "enrollment, Standard deviation: 1944.5307681407212\n",
            "enrollment, Variance: 3781199.9082459435\n",
            "enrollment, Skewness: 21.499503192289122\n",
            "enrollment, Kurtosis: 649.5716126309251\n",
            "enrollment, Quartiles: 0.25     40.0\n",
            "0.50    124.0\n",
            "0.75    365.0\n",
            "Name: enrollment, dtype: float64\n"
          ]
        }
      ]
    },
    {
      "cell_type": "markdown",
      "source": [
        "1. Positive value means the distribution is postively skewed,i.e, skewed to the right.(Mean> Mode)\n",
        "2. Kurtosis value is higher than that of the normal distribution thus leptokurtic,i.e, it is heavy tailed and outliers are present."
      ],
      "metadata": {
        "id": "VAc_G8CSdpV_"
      }
    },
    {
      "cell_type": "code",
      "source": [
        "#range\n",
        "enrollment_max=df2['enrollment'].max()\n",
        "enrollment_min=df2['enrollment'].min()\n",
        "#calculating range\n",
        "range= enrollment_max - enrollment_min\n",
        "enrollment_max,enrollment_min,range"
      ],
      "metadata": {
        "id": "6VmSIl64t-p8",
        "colab": {
          "base_uri": "https://localhost:8080/"
        },
        "outputId": "bd86a2f2-085b-4c22-d62f-a64bbd018916"
      },
      "execution_count": null,
      "outputs": [
        {
          "output_type": "execute_result",
          "data": {
            "text/plain": [
              "(84496, 0, 84496)"
            ]
          },
          "metadata": {},
          "execution_count": 25
        }
      ]
    },
    {
      "cell_type": "markdown",
      "source": [
        "#### Histograms"
      ],
      "metadata": {
        "id": "yhyJmNAefVh1"
      }
    },
    {
      "cell_type": "code",
      "source": [
        "#plotting the histogram for the enrollment column\n",
        "#\n",
        "plt.figure(figsize = (7,7), dpi = 100)\n",
        "df2['enrollment'].hist()\n",
        "plt.title('Enrollment Histogram')\n",
        "plt.xlabel('Enrollment')\n",
        "plt.ylabel('Number')\n",
        "plt.show()"
      ],
      "metadata": {
        "colab": {
          "base_uri": "https://localhost:8080/",
          "height": 631
        },
        "id": "666Upqg9u5S9",
        "outputId": "06b23bd9-3f3f-46b7-f4d2-a752ca81c313"
      },
      "execution_count": null,
      "outputs": [
        {
          "output_type": "display_data",
          "data": {
            "image/png": "[encoded data removed]",
            "text/plain": [
              "<Figure size 700x700 with 1 Axes>"
            ]
          },
          "metadata": {
            "needs_background": "light"
          }
        }
      ]
    },
    {
      "cell_type": "markdown",
      "source": [
        "#### Bar Graphs"
      ],
      "metadata": {
        "id": "cFUIrpk-gGdf"
      }
    },
    {
      "cell_type": "code",
      "source": [
        "#creating a bar graph of the years with the largest records\n",
        "#\n",
        "plt.figure(figsize = (7,7), dpi = 100)\n",
        "df2.start_year.value_counts().head()\n",
        "df2.start_year.value_counts().head().plot(kind= 'barh',color='Grey')\n",
        "plt.title('Years With The Largest Records')\n",
        "plt.xlabel('Value Counts')\n",
        "plt.ylabel('Years')\n",
        "plt.show()"
      ],
      "metadata": {
        "colab": {
          "base_uri": "https://localhost:8080/",
          "height": 631
        },
        "id": "RD8Im5yjwBXz",
        "outputId": "9deb56bc-0b14-4b25-88e4-635e0591c3a4"
      },
      "execution_count": null,
      "outputs": [
        {
          "output_type": "display_data",
          "data": {
            "image/png": "[encoded data removed]",
            "text/plain": [
              "<Figure size 700x700 with 1 Axes>"
            ]
          },
          "metadata": {
            "needs_background": "light"
          }
        }
      ]
    },
    {
      "cell_type": "markdown",
      "source": [
        "The year 2007 had the most tests."
      ],
      "metadata": {
        "id": "cHG10DEaiZwo"
      }
    },
    {
      "cell_type": "code",
      "source": [
        "##creating a bar graph of the months with the largest records\n",
        "#\n",
        "plt.figure(figsize = (7,7), dpi = 100)\n",
        "df2.start_month.value_counts().head()\n",
        "df2.start_month.value_counts().head().plot(kind= 'barh',color='Purple')\n",
        "plt.title('Month With The Largest Records')\n",
        "plt.xlabel('Value Counts')\n",
        "plt.ylabel('Month')\n",
        "plt.show()"
      ],
      "metadata": {
        "colab": {
          "base_uri": "https://localhost:8080/",
          "height": 631
        },
        "id": "j29PIVObw_MY",
        "outputId": "6908ab04-8dd9-40f2-e380-5c1e66739933"
      },
      "execution_count": null,
      "outputs": [
        {
          "output_type": "display_data",
          "data": {
            "image/png": "[encoded data removed]",
            "text/plain": [
              "<Figure size 700x700 with 1 Axes>"
            ]
          },
          "metadata": {
            "needs_background": "light"
          }
        }
      ]
    },
    {
      "cell_type": "markdown",
      "source": [
        "October (10) had the most tests."
      ],
      "metadata": {
        "id": "KUmKHaYqiexQ"
      }
    },
    {
      "cell_type": "code",
      "source": [
        "#creating a bar graph of the years with the largest records\n",
        "#\n",
        "plt.figure(figsize = (7,7), dpi = 100)\n",
        "df2.status.value_counts().head()\n",
        "df2.status.value_counts().head().plot(kind= 'barh')\n",
        "plt.title('Status vs Records')\n",
        "plt.xlabel('Value Counts')\n",
        "plt.ylabel('Status')\n",
        "plt.show()"
      ],
      "metadata": {
        "colab": {
          "base_uri": "https://localhost:8080/",
          "height": 631
        },
        "id": "7CT_0udzyBJC",
        "outputId": "e97b04d9-0e74-423f-f730-320be03b6a58"
      },
      "execution_count": null,
      "outputs": [
        {
          "output_type": "display_data",
          "data": {
            "image/png": "[encoded data removed]",
            "text/plain": [
              "<Figure size 700x700 with 1 Axes>"
            ]
          },
          "metadata": {
            "needs_background": "light"
          }
        }
      ]
    },
    {
      "cell_type": "markdown",
      "source": [
        "Most of the tests done were completed.\n",
        "\n",
        "\n"
      ],
      "metadata": {
        "id": "C1bUKXC4ijxg"
      }
    },
    {
      "cell_type": "markdown",
      "source": [
        "### Bivariate Analysis"
      ],
      "metadata": {
        "id": "S3plV_Ijh93H"
      }
    },
    {
      "cell_type": "code",
      "source": [
        "#this label encoding will be needed for correlation and multivariate analysis\n",
        "from sklearn.preprocessing import LabelEncoder\n",
        "#encoding the object columns\n",
        "columns = ['sponsor',\t'title',\t'start_year',\t'start_month',\t'phase', 'enrollment',\t'status', 'condition']\n",
        "#\n",
        "# we convert the categorical variables \n",
        "#\n",
        "df3= df2[columns].apply(LabelEncoder().fit_transform)\n",
        "#\n",
        "# Print head\n",
        "#\n",
        "df3.head()"
      ],
      "metadata": {
        "colab": {
          "base_uri": "https://localhost:8080/",
          "height": 206
        },
        "id": "o5j9y2v4xyDH",
        "outputId": "272abe22-e789-470c-d7fe-53d3d0c928b1"
      },
      "execution_count": null,
      "outputs": [
        {
          "output_type": "execute_result",
          "data": {
            "text/html": [
              "\n",
              "  <div id=\"df-8cffe60f-3e1e-45f4-a784-11f6c18accfd\">\n",
              "    <div class=\"colab-df-container\">\n",
              "      <div>\n",
              "<style scoped>\n",
              "    .dataframe tbody tr th:only-of-type {\n",
              "        vertical-align: middle;\n",
              "    }\n",
              "\n",
              "    .dataframe tbody tr th {\n",
              "        vertical-align: top;\n",
              "    }\n",
              "\n",
              "    .dataframe thead th {\n",
              "        text-align: right;\n",
              "    }\n",
              "</style>\n",
              "<table border=\"1\" class=\"dataframe\">\n",
              "  <thead>\n",
              "    <tr style=\"text-align: right;\">\n",
              "      <th></th>\n",
              "      <th>sponsor</th>\n",
              "      <th>title</th>\n",
              "      <th>start_year</th>\n",
              "      <th>start_month</th>\n",
              "      <th>phase</th>\n",
              "      <th>enrollment</th>\n",
              "      <th>status</th>\n",
              "      <th>condition</th>\n",
              "    </tr>\n",
              "  </thead>\n",
              "  <tbody>\n",
              "    <tr>\n",
              "      <th>0</th>\n",
              "      <td>9</td>\n",
              "      <td>4548</td>\n",
              "      <td>11</td>\n",
              "      <td>6</td>\n",
              "      <td>3</td>\n",
              "      <td>75</td>\n",
              "      <td>1</td>\n",
              "      <td>449</td>\n",
              "    </tr>\n",
              "    <tr>\n",
              "      <th>1</th>\n",
              "      <td>9</td>\n",
              "      <td>12283</td>\n",
              "      <td>12</td>\n",
              "      <td>0</td>\n",
              "      <td>3</td>\n",
              "      <td>0</td>\n",
              "      <td>8</td>\n",
              "      <td>253</td>\n",
              "    </tr>\n",
              "    <tr>\n",
              "      <th>2</th>\n",
              "      <td>9</td>\n",
              "      <td>12207</td>\n",
              "      <td>13</td>\n",
              "      <td>2</td>\n",
              "      <td>2</td>\n",
              "      <td>36</td>\n",
              "      <td>7</td>\n",
              "      <td>502</td>\n",
              "    </tr>\n",
              "    <tr>\n",
              "      <th>3</th>\n",
              "      <td>9</td>\n",
              "      <td>12285</td>\n",
              "      <td>13</td>\n",
              "      <td>4</td>\n",
              "      <td>3</td>\n",
              "      <td>0</td>\n",
              "      <td>8</td>\n",
              "      <td>605</td>\n",
              "    </tr>\n",
              "    <tr>\n",
              "      <th>4</th>\n",
              "      <td>9</td>\n",
              "      <td>1930</td>\n",
              "      <td>14</td>\n",
              "      <td>9</td>\n",
              "      <td>5</td>\n",
              "      <td>0</td>\n",
              "      <td>7</td>\n",
              "      <td>166</td>\n",
              "    </tr>\n",
              "  </tbody>\n",
              "</table>\n",
              "</div>\n",
              "      <button class=\"colab-df-convert\" onclick=\"convertToInteractive('df-8cffe60f-3e1e-45f4-a784-11f6c18accfd')\"\n",
              "              title=\"Convert this dataframe to an interactive table.\"\n",
              "              style=\"display:none;\">\n",
              "        \n",
              "  <svg xmlns=\"http://www.w3.org/2000/svg\" height=\"24px\"viewBox=\"0 0 24 24\"\n",
              "       width=\"24px\">\n",
              "    <path d=\"M0 0h24v24H0V0z\" fill=\"none\"/>\n",
              "    <path d=\"M18.56 5.44l.94 2.06.94-2.06 2.06-.94-2.06-.94-.94-2.06-.94 2.06-2.06.94zm-11 1L8.5 8.5l.94-2.06 2.06-.94-2.06-.94L8.5 2.5l-.94 2.06-2.06.94zm10 10l.94 2.06.94-2.06 2.06-.94-2.06-.94-.94-2.06-.94 2.06-2.06.94z\"/><path d=\"M17.41 7.96l-1.37-1.37c-.4-.4-.92-.59-1.43-.59-.52 0-1.04.2-1.43.59L10.3 9.45l-7.72 7.72c-.78.78-.78 2.05 0 2.83L4 21.41c.39.39.9.59 1.41.59.51 0 1.02-.2 1.41-.59l7.78-7.78 2.81-2.81c.8-.78.8-2.07 0-2.86zM5.41 20L4 18.59l7.72-7.72 1.47 1.35L5.41 20z\"/>\n",
              "  </svg>\n",
              "      </button>\n",
              "      \n",
              "  <style>\n",
              "    .colab-df-container {\n",
              "      display:flex;\n",
              "      flex-wrap:wrap;\n",
              "      gap: 12px;\n",
              "    }\n",
              "\n",
              "    .colab-df-convert {\n",
              "      background-color: #E8F0FE;\n",
              "      border: none;\n",
              "      border-radius: 50%;\n",
              "      cursor: pointer;\n",
              "      display: none;\n",
              "      fill: #1967D2;\n",
              "      height: 32px;\n",
              "      padding: 0 0 0 0;\n",
              "      width: 32px;\n",
              "    }\n",
              "\n",
              "    .colab-df-convert:hover {\n",
              "      background-color: #E2EBFA;\n",
              "      box-shadow: 0px 1px 2px rgba(60, 64, 67, 0.3), 0px 1px 3px 1px rgba(60, 64, 67, 0.15);\n",
              "      fill: #174EA6;\n",
              "    }\n",
              "\n",
              "    [theme=dark] .colab-df-convert {\n",
              "      background-color: #3B4455;\n",
              "      fill: #D2E3FC;\n",
              "    }\n",
              "\n",
              "    [theme=dark] .colab-df-convert:hover {\n",
              "      background-color: #434B5C;\n",
              "      box-shadow: 0px 1px 3px 1px rgba(0, 0, 0, 0.15);\n",
              "      filter: drop-shadow(0px 1px 2px rgba(0, 0, 0, 0.3));\n",
              "      fill: #FFFFFF;\n",
              "    }\n",
              "  </style>\n",
              "\n",
              "      <script>\n",
              "        const buttonEl =\n",
              "          document.querySelector('#df-8cffe60f-3e1e-45f4-a784-11f6c18accfd button.colab-df-convert');\n",
              "        buttonEl.style.display =\n",
              "          google.colab.kernel.accessAllowed ? 'block' : 'none';\n",
              "\n",
              "        async function convertToInteractive(key) {\n",
              "          const element = document.querySelector('#df-8cffe60f-3e1e-45f4-a784-11f6c18accfd');\n",
              "          const dataTable =\n",
              "            await google.colab.kernel.invokeFunction('convertToInteractive',\n",
              "                                                     [key], {});\n",
              "          if (!dataTable) return;\n",
              "\n",
              "          const docLinkHtml = 'Like what you see? Visit the ' +\n",
              "            '<a target=\"_blank\" href=https://colab.research.google.com/notebooks/data_table.ipynb>data table notebook</a>'\n",
              "            + ' to learn more about interactive tables.';\n",
              "          element.innerHTML = '';\n",
              "          dataTable['output_type'] = 'display_data';\n",
              "          await google.colab.output.renderOutput(dataTable, element);\n",
              "          const docLink = document.createElement('div');\n",
              "          docLink.innerHTML = docLinkHtml;\n",
              "          element.appendChild(docLink);\n",
              "        }\n",
              "      </script>\n",
              "    </div>\n",
              "  </div>\n",
              "  "
            ],
            "text/plain": [
              "   sponsor  title  start_year  ...  enrollment  status  condition\n",
              "0        9   4548          11  ...          75       1        449\n",
              "1        9  12283          12  ...           0       8        253\n",
              "2        9  12207          13  ...          36       7        502\n",
              "3        9  12285          13  ...           0       8        605\n",
              "4        9   1930          14  ...           0       7        166\n",
              "\n",
              "[5 rows x 8 columns]"
            ]
          },
          "metadata": {},
          "execution_count": 30
        }
      ]
    },
    {
      "cell_type": "markdown",
      "source": [
        "#### Heat Map"
      ],
      "metadata": {
        "id": "MRc3zgAGqXVk"
      }
    },
    {
      "cell_type": "code",
      "source": [
        "#this is a summary analysis of the correlation coefficients in the datasets\n",
        "\n",
        "corr = df3.corr()\n",
        "\n",
        "corr.style.background_gradient(cmap='coolwarm')"
      ],
      "metadata": {
        "colab": {
          "base_uri": "https://localhost:8080/",
          "height": 300
        },
        "id": "XZCOIKcZzKQT",
        "outputId": "84e56005-58c1-4604-b625-18f6c7694df0"
      },
      "execution_count": null,
      "outputs": [
        {
          "output_type": "execute_result",
          "data": {
            "text/html": [
              "<style  type=\"text/css\" >\n",
              "#T_7cbbc7fa_7f38_11ec_98f7_0242ac1c0002row0_col0,#T_7cbbc7fa_7f38_11ec_98f7_0242ac1c0002row1_col1,#T_7cbbc7fa_7f38_11ec_98f7_0242ac1c0002row2_col2,#T_7cbbc7fa_7f38_11ec_98f7_0242ac1c0002row3_col3,#T_7cbbc7fa_7f38_11ec_98f7_0242ac1c0002row4_col4,#T_7cbbc7fa_7f38_11ec_98f7_0242ac1c0002row5_col5,#T_7cbbc7fa_7f38_11ec_98f7_0242ac1c0002row6_col6,#T_7cbbc7fa_7f38_11ec_98f7_0242ac1c0002row7_col7{\n",
              "            background-color:  #b40426;\n",
              "            color:  #f1f1f1;\n",
              "        }#T_7cbbc7fa_7f38_11ec_98f7_0242ac1c0002row0_col1,#T_7cbbc7fa_7f38_11ec_98f7_0242ac1c0002row4_col6{\n",
              "            background-color:  #5673e0;\n",
              "            color:  #000000;\n",
              "        }#T_7cbbc7fa_7f38_11ec_98f7_0242ac1c0002row0_col2{\n",
              "            background-color:  #4a63d3;\n",
              "            color:  #f1f1f1;\n",
              "        }#T_7cbbc7fa_7f38_11ec_98f7_0242ac1c0002row0_col3,#T_7cbbc7fa_7f38_11ec_98f7_0242ac1c0002row4_col7{\n",
              "            background-color:  #4257c9;\n",
              "            color:  #f1f1f1;\n",
              "        }#T_7cbbc7fa_7f38_11ec_98f7_0242ac1c0002row0_col4{\n",
              "            background-color:  #84a7fc;\n",
              "            color:  #000000;\n",
              "        }#T_7cbbc7fa_7f38_11ec_98f7_0242ac1c0002row0_col5,#T_7cbbc7fa_7f38_11ec_98f7_0242ac1c0002row0_col6{\n",
              "            background-color:  #6a8bef;\n",
              "            color:  #000000;\n",
              "        }#T_7cbbc7fa_7f38_11ec_98f7_0242ac1c0002row0_col7,#T_7cbbc7fa_7f38_11ec_98f7_0242ac1c0002row2_col0,#T_7cbbc7fa_7f38_11ec_98f7_0242ac1c0002row2_col1,#T_7cbbc7fa_7f38_11ec_98f7_0242ac1c0002row2_col3,#T_7cbbc7fa_7f38_11ec_98f7_0242ac1c0002row2_col4,#T_7cbbc7fa_7f38_11ec_98f7_0242ac1c0002row4_col2,#T_7cbbc7fa_7f38_11ec_98f7_0242ac1c0002row5_col6,#T_7cbbc7fa_7f38_11ec_98f7_0242ac1c0002row6_col5{\n",
              "            background-color:  #3b4cc0;\n",
              "            color:  #f1f1f1;\n",
              "        }#T_7cbbc7fa_7f38_11ec_98f7_0242ac1c0002row1_col0,#T_7cbbc7fa_7f38_11ec_98f7_0242ac1c0002row5_col1{\n",
              "            background-color:  #536edd;\n",
              "            color:  #000000;\n",
              "        }#T_7cbbc7fa_7f38_11ec_98f7_0242ac1c0002row1_col2{\n",
              "            background-color:  #485fd1;\n",
              "            color:  #f1f1f1;\n",
              "        }#T_7cbbc7fa_7f38_11ec_98f7_0242ac1c0002row1_col3{\n",
              "            background-color:  #3d50c3;\n",
              "            color:  #f1f1f1;\n",
              "        }#T_7cbbc7fa_7f38_11ec_98f7_0242ac1c0002row1_col4{\n",
              "            background-color:  #7a9df8;\n",
              "            color:  #000000;\n",
              "        }#T_7cbbc7fa_7f38_11ec_98f7_0242ac1c0002row1_col5{\n",
              "            background-color:  #5977e3;\n",
              "            color:  #000000;\n",
              "        }#T_7cbbc7fa_7f38_11ec_98f7_0242ac1c0002row1_col6,#T_7cbbc7fa_7f38_11ec_98f7_0242ac1c0002row3_col0,#T_7cbbc7fa_7f38_11ec_98f7_0242ac1c0002row3_col1{\n",
              "            background-color:  #5875e1;\n",
              "            color:  #000000;\n",
              "        }#T_7cbbc7fa_7f38_11ec_98f7_0242ac1c0002row1_col7,#T_7cbbc7fa_7f38_11ec_98f7_0242ac1c0002row7_col6{\n",
              "            background-color:  #5470de;\n",
              "            color:  #000000;\n",
              "        }#T_7cbbc7fa_7f38_11ec_98f7_0242ac1c0002row2_col5,#T_7cbbc7fa_7f38_11ec_98f7_0242ac1c0002row5_col3{\n",
              "            background-color:  #455cce;\n",
              "            color:  #f1f1f1;\n",
              "        }#T_7cbbc7fa_7f38_11ec_98f7_0242ac1c0002row2_col6{\n",
              "            background-color:  #94b6ff;\n",
              "            color:  #000000;\n",
              "        }#T_7cbbc7fa_7f38_11ec_98f7_0242ac1c0002row2_col7,#T_7cbbc7fa_7f38_11ec_98f7_0242ac1c0002row3_col7,#T_7cbbc7fa_7f38_11ec_98f7_0242ac1c0002row5_col2{\n",
              "            background-color:  #4b64d5;\n",
              "            color:  #f1f1f1;\n",
              "        }#T_7cbbc7fa_7f38_11ec_98f7_0242ac1c0002row3_col2,#T_7cbbc7fa_7f38_11ec_98f7_0242ac1c0002row3_col6,#T_7cbbc7fa_7f38_11ec_98f7_0242ac1c0002row5_col0,#T_7cbbc7fa_7f38_11ec_98f7_0242ac1c0002row6_col0{\n",
              "            background-color:  #6180e9;\n",
              "            color:  #000000;\n",
              "        }#T_7cbbc7fa_7f38_11ec_98f7_0242ac1c0002row3_col4,#T_7cbbc7fa_7f38_11ec_98f7_0242ac1c0002row3_col5{\n",
              "            background-color:  #6485ec;\n",
              "            color:  #000000;\n",
              "        }#T_7cbbc7fa_7f38_11ec_98f7_0242ac1c0002row4_col0{\n",
              "            background-color:  #7597f6;\n",
              "            color:  #000000;\n",
              "        }#T_7cbbc7fa_7f38_11ec_98f7_0242ac1c0002row4_col1{\n",
              "            background-color:  #6c8ff1;\n",
              "            color:  #000000;\n",
              "        }#T_7cbbc7fa_7f38_11ec_98f7_0242ac1c0002row4_col3,#T_7cbbc7fa_7f38_11ec_98f7_0242ac1c0002row6_col7{\n",
              "            background-color:  #3e51c5;\n",
              "            color:  #f1f1f1;\n",
              "        }#T_7cbbc7fa_7f38_11ec_98f7_0242ac1c0002row4_col5{\n",
              "            background-color:  #cedaeb;\n",
              "            color:  #000000;\n",
              "        }#T_7cbbc7fa_7f38_11ec_98f7_0242ac1c0002row5_col4{\n",
              "            background-color:  #d2dbe8;\n",
              "            color:  #000000;\n",
              "        }#T_7cbbc7fa_7f38_11ec_98f7_0242ac1c0002row5_col7,#T_7cbbc7fa_7f38_11ec_98f7_0242ac1c0002row6_col1{\n",
              "            background-color:  #516ddb;\n",
              "            color:  #000000;\n",
              "        }#T_7cbbc7fa_7f38_11ec_98f7_0242ac1c0002row6_col2{\n",
              "            background-color:  #9bbcff;\n",
              "            color:  #000000;\n",
              "        }#T_7cbbc7fa_7f38_11ec_98f7_0242ac1c0002row6_col3,#T_7cbbc7fa_7f38_11ec_98f7_0242ac1c0002row7_col3{\n",
              "            background-color:  #4055c8;\n",
              "            color:  #f1f1f1;\n",
              "        }#T_7cbbc7fa_7f38_11ec_98f7_0242ac1c0002row6_col4{\n",
              "            background-color:  #5d7ce6;\n",
              "            color:  #000000;\n",
              "        }#T_7cbbc7fa_7f38_11ec_98f7_0242ac1c0002row7_col0{\n",
              "            background-color:  #465ecf;\n",
              "            color:  #f1f1f1;\n",
              "        }#T_7cbbc7fa_7f38_11ec_98f7_0242ac1c0002row7_col1{\n",
              "            background-color:  #6384eb;\n",
              "            color:  #000000;\n",
              "        }#T_7cbbc7fa_7f38_11ec_98f7_0242ac1c0002row7_col2,#T_7cbbc7fa_7f38_11ec_98f7_0242ac1c0002row7_col5{\n",
              "            background-color:  #6788ee;\n",
              "            color:  #000000;\n",
              "        }#T_7cbbc7fa_7f38_11ec_98f7_0242ac1c0002row7_col4{\n",
              "            background-color:  #5e7de7;\n",
              "            color:  #000000;\n",
              "        }</style><table id=\"T_7cbbc7fa_7f38_11ec_98f7_0242ac1c0002\" class=\"dataframe\"><thead>    <tr>        <th class=\"blank level0\" ></th>        <th class=\"col_heading level0 col0\" >sponsor</th>        <th class=\"col_heading level0 col1\" >title</th>        <th class=\"col_heading level0 col2\" >start_year</th>        <th class=\"col_heading level0 col3\" >start_month</th>        <th class=\"col_heading level0 col4\" >phase</th>        <th class=\"col_heading level0 col5\" >enrollment</th>        <th class=\"col_heading level0 col6\" >status</th>        <th class=\"col_heading level0 col7\" >condition</th>    </tr></thead><tbody>\n",
              "                <tr>\n",
              "                        <th id=\"T_7cbbc7fa_7f38_11ec_98f7_0242ac1c0002level0_row0\" class=\"row_heading level0 row0\" >sponsor</th>\n",
              "                        <td id=\"T_7cbbc7fa_7f38_11ec_98f7_0242ac1c0002row0_col0\" class=\"data row0 col0\" >1.000000</td>\n",
              "                        <td id=\"T_7cbbc7fa_7f38_11ec_98f7_0242ac1c0002row0_col1\" class=\"data row0 col1\" >-0.011784</td>\n",
              "                        <td id=\"T_7cbbc7fa_7f38_11ec_98f7_0242ac1c0002row0_col2\" class=\"data row0 col2\" >-0.101366</td>\n",
              "                        <td id=\"T_7cbbc7fa_7f38_11ec_98f7_0242ac1c0002row0_col3\" class=\"data row0 col3\" >0.004454</td>\n",
              "                        <td id=\"T_7cbbc7fa_7f38_11ec_98f7_0242ac1c0002row0_col4\" class=\"data row0 col4\" >0.099278</td>\n",
              "                        <td id=\"T_7cbbc7fa_7f38_11ec_98f7_0242ac1c0002row0_col5\" class=\"data row0 col5\" >0.036126</td>\n",
              "                        <td id=\"T_7cbbc7fa_7f38_11ec_98f7_0242ac1c0002row0_col6\" class=\"data row0 col6\" >0.032792</td>\n",
              "                        <td id=\"T_7cbbc7fa_7f38_11ec_98f7_0242ac1c0002row0_col7\" class=\"data row0 col7\" >-0.056252</td>\n",
              "            </tr>\n",
              "            <tr>\n",
              "                        <th id=\"T_7cbbc7fa_7f38_11ec_98f7_0242ac1c0002level0_row1\" class=\"row_heading level0 row1\" >title</th>\n",
              "                        <td id=\"T_7cbbc7fa_7f38_11ec_98f7_0242ac1c0002row1_col0\" class=\"data row1 col0\" >-0.011784</td>\n",
              "                        <td id=\"T_7cbbc7fa_7f38_11ec_98f7_0242ac1c0002row1_col1\" class=\"data row1 col1\" >1.000000</td>\n",
              "                        <td id=\"T_7cbbc7fa_7f38_11ec_98f7_0242ac1c0002row1_col2\" class=\"data row1 col2\" >-0.112555</td>\n",
              "                        <td id=\"T_7cbbc7fa_7f38_11ec_98f7_0242ac1c0002row1_col3\" class=\"data row1 col3\" >-0.008051</td>\n",
              "                        <td id=\"T_7cbbc7fa_7f38_11ec_98f7_0242ac1c0002row1_col4\" class=\"data row1 col4\" >0.064699</td>\n",
              "                        <td id=\"T_7cbbc7fa_7f38_11ec_98f7_0242ac1c0002row1_col5\" class=\"data row1 col5\" >-0.024749</td>\n",
              "                        <td id=\"T_7cbbc7fa_7f38_11ec_98f7_0242ac1c0002row1_col6\" class=\"data row1 col6\" >-0.029922</td>\n",
              "                        <td id=\"T_7cbbc7fa_7f38_11ec_98f7_0242ac1c0002row1_col7\" class=\"data row1 col7\" >0.031042</td>\n",
              "            </tr>\n",
              "            <tr>\n",
              "                        <th id=\"T_7cbbc7fa_7f38_11ec_98f7_0242ac1c0002level0_row2\" class=\"row_heading level0 row2\" >start_year</th>\n",
              "                        <td id=\"T_7cbbc7fa_7f38_11ec_98f7_0242ac1c0002row2_col0\" class=\"data row2 col0\" >-0.101366</td>\n",
              "                        <td id=\"T_7cbbc7fa_7f38_11ec_98f7_0242ac1c0002row2_col1\" class=\"data row2 col1\" >-0.112555</td>\n",
              "                        <td id=\"T_7cbbc7fa_7f38_11ec_98f7_0242ac1c0002row2_col2\" class=\"data row2 col2\" >1.000000</td>\n",
              "                        <td id=\"T_7cbbc7fa_7f38_11ec_98f7_0242ac1c0002row2_col3\" class=\"data row2 col3\" >-0.019964</td>\n",
              "                        <td id=\"T_7cbbc7fa_7f38_11ec_98f7_0242ac1c0002row2_col4\" class=\"data row2 col4\" >-0.162698</td>\n",
              "                        <td id=\"T_7cbbc7fa_7f38_11ec_98f7_0242ac1c0002row2_col5\" class=\"data row2 col5\" >-0.095493</td>\n",
              "                        <td id=\"T_7cbbc7fa_7f38_11ec_98f7_0242ac1c0002row2_col6\" class=\"data row2 col6\" >0.173859</td>\n",
              "                        <td id=\"T_7cbbc7fa_7f38_11ec_98f7_0242ac1c0002row2_col7\" class=\"data row2 col7\" >0.003115</td>\n",
              "            </tr>\n",
              "            <tr>\n",
              "                        <th id=\"T_7cbbc7fa_7f38_11ec_98f7_0242ac1c0002level0_row3\" class=\"row_heading level0 row3\" >start_month</th>\n",
              "                        <td id=\"T_7cbbc7fa_7f38_11ec_98f7_0242ac1c0002row3_col0\" class=\"data row3 col0\" >0.004454</td>\n",
              "                        <td id=\"T_7cbbc7fa_7f38_11ec_98f7_0242ac1c0002row3_col1\" class=\"data row3 col1\" >-0.008051</td>\n",
              "                        <td id=\"T_7cbbc7fa_7f38_11ec_98f7_0242ac1c0002row3_col2\" class=\"data row3 col2\" >-0.019964</td>\n",
              "                        <td id=\"T_7cbbc7fa_7f38_11ec_98f7_0242ac1c0002row3_col3\" class=\"data row3 col3\" >1.000000</td>\n",
              "                        <td id=\"T_7cbbc7fa_7f38_11ec_98f7_0242ac1c0002row3_col4\" class=\"data row3 col4\" >-0.006139</td>\n",
              "                        <td id=\"T_7cbbc7fa_7f38_11ec_98f7_0242ac1c0002row3_col5\" class=\"data row3 col5\" >0.017775</td>\n",
              "                        <td id=\"T_7cbbc7fa_7f38_11ec_98f7_0242ac1c0002row3_col6\" class=\"data row3 col6\" >0.001466</td>\n",
              "                        <td id=\"T_7cbbc7fa_7f38_11ec_98f7_0242ac1c0002row3_col7\" class=\"data row3 col7\" >0.001729</td>\n",
              "            </tr>\n",
              "            <tr>\n",
              "                        <th id=\"T_7cbbc7fa_7f38_11ec_98f7_0242ac1c0002level0_row4\" class=\"row_heading level0 row4\" >phase</th>\n",
              "                        <td id=\"T_7cbbc7fa_7f38_11ec_98f7_0242ac1c0002row4_col0\" class=\"data row4 col0\" >0.099278</td>\n",
              "                        <td id=\"T_7cbbc7fa_7f38_11ec_98f7_0242ac1c0002row4_col1\" class=\"data row4 col1\" >0.064699</td>\n",
              "                        <td id=\"T_7cbbc7fa_7f38_11ec_98f7_0242ac1c0002row4_col2\" class=\"data row4 col2\" >-0.162698</td>\n",
              "                        <td id=\"T_7cbbc7fa_7f38_11ec_98f7_0242ac1c0002row4_col3\" class=\"data row4 col3\" >-0.006139</td>\n",
              "                        <td id=\"T_7cbbc7fa_7f38_11ec_98f7_0242ac1c0002row4_col4\" class=\"data row4 col4\" >1.000000</td>\n",
              "                        <td id=\"T_7cbbc7fa_7f38_11ec_98f7_0242ac1c0002row4_col5\" class=\"data row4 col5\" >0.371301</td>\n",
              "                        <td id=\"T_7cbbc7fa_7f38_11ec_98f7_0242ac1c0002row4_col6\" class=\"data row4 col6\" >-0.032728</td>\n",
              "                        <td id=\"T_7cbbc7fa_7f38_11ec_98f7_0242ac1c0002row4_col7\" class=\"data row4 col7\" >-0.029078</td>\n",
              "            </tr>\n",
              "            <tr>\n",
              "                        <th id=\"T_7cbbc7fa_7f38_11ec_98f7_0242ac1c0002level0_row5\" class=\"row_heading level0 row5\" >enrollment</th>\n",
              "                        <td id=\"T_7cbbc7fa_7f38_11ec_98f7_0242ac1c0002row5_col0\" class=\"data row5 col0\" >0.036126</td>\n",
              "                        <td id=\"T_7cbbc7fa_7f38_11ec_98f7_0242ac1c0002row5_col1\" class=\"data row5 col1\" >-0.024749</td>\n",
              "                        <td id=\"T_7cbbc7fa_7f38_11ec_98f7_0242ac1c0002row5_col2\" class=\"data row5 col2\" >-0.095493</td>\n",
              "                        <td id=\"T_7cbbc7fa_7f38_11ec_98f7_0242ac1c0002row5_col3\" class=\"data row5 col3\" >0.017775</td>\n",
              "                        <td id=\"T_7cbbc7fa_7f38_11ec_98f7_0242ac1c0002row5_col4\" class=\"data row5 col4\" >0.371301</td>\n",
              "                        <td id=\"T_7cbbc7fa_7f38_11ec_98f7_0242ac1c0002row5_col5\" class=\"data row5 col5\" >1.000000</td>\n",
              "                        <td id=\"T_7cbbc7fa_7f38_11ec_98f7_0242ac1c0002row5_col6\" class=\"data row5 col6\" >-0.136990</td>\n",
              "                        <td id=\"T_7cbbc7fa_7f38_11ec_98f7_0242ac1c0002row5_col7\" class=\"data row5 col7\" >0.023968</td>\n",
              "            </tr>\n",
              "            <tr>\n",
              "                        <th id=\"T_7cbbc7fa_7f38_11ec_98f7_0242ac1c0002level0_row6\" class=\"row_heading level0 row6\" >status</th>\n",
              "                        <td id=\"T_7cbbc7fa_7f38_11ec_98f7_0242ac1c0002row6_col0\" class=\"data row6 col0\" >0.032792</td>\n",
              "                        <td id=\"T_7cbbc7fa_7f38_11ec_98f7_0242ac1c0002row6_col1\" class=\"data row6 col1\" >-0.029922</td>\n",
              "                        <td id=\"T_7cbbc7fa_7f38_11ec_98f7_0242ac1c0002row6_col2\" class=\"data row6 col2\" >0.173859</td>\n",
              "                        <td id=\"T_7cbbc7fa_7f38_11ec_98f7_0242ac1c0002row6_col3\" class=\"data row6 col3\" >0.001466</td>\n",
              "                        <td id=\"T_7cbbc7fa_7f38_11ec_98f7_0242ac1c0002row6_col4\" class=\"data row6 col4\" >-0.032728</td>\n",
              "                        <td id=\"T_7cbbc7fa_7f38_11ec_98f7_0242ac1c0002row6_col5\" class=\"data row6 col5\" >-0.136990</td>\n",
              "                        <td id=\"T_7cbbc7fa_7f38_11ec_98f7_0242ac1c0002row6_col6\" class=\"data row6 col6\" >1.000000</td>\n",
              "                        <td id=\"T_7cbbc7fa_7f38_11ec_98f7_0242ac1c0002row6_col7\" class=\"data row6 col7\" >-0.040925</td>\n",
              "            </tr>\n",
              "            <tr>\n",
              "                        <th id=\"T_7cbbc7fa_7f38_11ec_98f7_0242ac1c0002level0_row7\" class=\"row_heading level0 row7\" >condition</th>\n",
              "                        <td id=\"T_7cbbc7fa_7f38_11ec_98f7_0242ac1c0002row7_col0\" class=\"data row7 col0\" >-0.056252</td>\n",
              "                        <td id=\"T_7cbbc7fa_7f38_11ec_98f7_0242ac1c0002row7_col1\" class=\"data row7 col1\" >0.031042</td>\n",
              "                        <td id=\"T_7cbbc7fa_7f38_11ec_98f7_0242ac1c0002row7_col2\" class=\"data row7 col2\" >0.003115</td>\n",
              "                        <td id=\"T_7cbbc7fa_7f38_11ec_98f7_0242ac1c0002row7_col3\" class=\"data row7 col3\" >0.001729</td>\n",
              "                        <td id=\"T_7cbbc7fa_7f38_11ec_98f7_0242ac1c0002row7_col4\" class=\"data row7 col4\" >-0.029078</td>\n",
              "                        <td id=\"T_7cbbc7fa_7f38_11ec_98f7_0242ac1c0002row7_col5\" class=\"data row7 col5\" >0.023968</td>\n",
              "                        <td id=\"T_7cbbc7fa_7f38_11ec_98f7_0242ac1c0002row7_col6\" class=\"data row7 col6\" >-0.040925</td>\n",
              "                        <td id=\"T_7cbbc7fa_7f38_11ec_98f7_0242ac1c0002row7_col7\" class=\"data row7 col7\" >1.000000</td>\n",
              "            </tr>\n",
              "    </tbody></table>"
            ],
            "text/plain": [
              "<pandas.io.formats.style.Styler at 0x7f92fc04bc50>"
            ]
          },
          "metadata": {},
          "execution_count": 31
        }
      ]
    },
    {
      "cell_type": "markdown",
      "source": [
        "1. status and sponsor\n",
        "\n",
        "correlation coefficient = 0.032792, which is greater than 0 indicating a positive relationship between the two variables.\n",
        "Since the coefficient is close to 0 the two variables have low correlation\n",
        "\n",
        "2. condition and enrollment\n",
        "\n",
        "correlation coefficient = 0.023968, which is closer to 0 indicating a positive relationship between the two variables\n",
        "\n",
        "3. Enrollment and title\n",
        "\n",
        "correlation coefficient = -0.024749, which is less than 0 thus there is no relation between the two variables.\n",
        "\n",
        "4. start year and start month\n",
        "\n",
        "correlation coefficient = -0.019964,which is less than 0 thus there is no relation between the two variables."
      ],
      "metadata": {
        "id": "M6bmvlsTRi3-"
      }
    },
    {
      "cell_type": "markdown",
      "source": [
        "#### Scatter Plots"
      ],
      "metadata": {
        "id": "cHHMWuR1q6TV"
      }
    },
    {
      "cell_type": "code",
      "source": [
        "#scatter plot to show sponser verses enrollment\n",
        "plt.figure(figsize=(10, 4))\n",
        "sns.regplot(x = df3[\"sponsor\"], y = df3[\"enrollment\"], fit_reg=False)\n",
        "plt.title('Sponsor vs Enrollment')\n",
        "plt.xlabel('sponsor')\n",
        "plt.ylabel('enrollment')\n",
        "plt.show()"
      ],
      "metadata": {
        "colab": {
          "base_uri": "https://localhost:8080/",
          "height": 295
        },
        "id": "I6s2ACJusMOQ",
        "outputId": "cf733d6e-9dbe-4dff-813e-b0bacbefc2bb"
      },
      "execution_count": null,
      "outputs": [
        {
          "output_type": "display_data",
          "data": {
            "image/png": "[encoded data removed]",
            "text/plain": [
              "<Figure size 720x288 with 1 Axes>"
            ]
          },
          "metadata": {
            "needs_background": "light"
          }
        }
      ]
    },
    {
      "cell_type": "markdown",
      "source": [
        "There is no relation between enrollment and sponsor since the dots are evenly distributed all over the graph."
      ],
      "metadata": {
        "id": "n9lctfMXeWmQ"
      }
    },
    {
      "cell_type": "markdown",
      "source": [
        "#### Stacked Column Chart"
      ],
      "metadata": {
        "id": "oUrW6QS0vOw1"
      }
    },
    {
      "cell_type": "code",
      "source": [
        "#Status vs phase\n",
        "plt.rcParams[\"figure.figsize\"] = (10,7)\n",
        "df2.groupby(['status', 'phase']).size().unstack().plot(kind='barh', stacked=True)\n",
        "plt.title('Status in different phases of the study')\n",
        "plt.xlabel('Count')\n",
        "plt.ylabel('Status')\n",
        "plt.show()"
      ],
      "metadata": {
        "colab": {
          "base_uri": "https://localhost:8080/",
          "height": 458
        },
        "id": "9U3orbN6t4wW",
        "outputId": "2f88ad2f-304e-4253-9b91-6e9ea3a47158"
      },
      "execution_count": null,
      "outputs": [
        {
          "output_type": "display_data",
          "data": {
            "image/png": "[encoded data removed]",
            "text/plain": [
              "<Figure size 720x504 with 1 Axes>"
            ]
          },
          "metadata": {
            "needs_background": "light"
          }
        }
      ]
    },
    {
      "cell_type": "markdown",
      "source": [
        "We see that most of the tests were completed."
      ],
      "metadata": {
        "id": "AbDr4g4KdPKB"
      }
    },
    {
      "cell_type": "code",
      "source": [
        "#checking enrollment by month\n",
        "plt.rcParams[\"figure.figsize\"] = (10,4)\n",
        "ax = df.groupby('start_month')['enrollment'].sum().sort_values(ascending=False).to_frame().plot(kind = \"bar\", title = \"Enrollment by Month\");\n",
        "ax.set(xlabel='Start Month', ylabel='Enrollment')\n",
        "plt.show()"
      ],
      "metadata": {
        "colab": {
          "base_uri": "https://localhost:8080/",
          "height": 298
        },
        "id": "aPytqRxE4t7Z",
        "outputId": "1510f55a-aed1-4898-c92b-bb6eb1d23ba1"
      },
      "execution_count": null,
      "outputs": [
        {
          "output_type": "display_data",
          "data": {
            "image/png": "[encoded data removed]",
            "text/plain": [
              "<Figure size 720x288 with 1 Axes>"
            ]
          },
          "metadata": {
            "needs_background": "light"
          }
        }
      ]
    },
    {
      "cell_type": "markdown",
      "source": [
        "October(10) had the highest enrollment."
      ],
      "metadata": {
        "id": "lKm68Vlj5ODQ"
      }
    },
    {
      "cell_type": "code",
      "source": [
        "#checking which year was highest in enrollment\n",
        "plt.rcParams[\"figure.figsize\"] = (10,4)\n",
        "ax = df.groupby('start_year')['enrollment'].sum().sort_values(ascending=False).to_frame().head(10).plot(kind = \"bar\", title = \"Enrollment by year\");\n",
        "ax.set(xlabel='Start year', ylabel='Enrollment')\n",
        "plt.show()"
      ],
      "metadata": {
        "colab": {
          "base_uri": "https://localhost:8080/",
          "height": 311
        },
        "id": "NWATy01B4MCV",
        "outputId": "4e4cd2aa-5612-41e9-ddf6-3bf87f2fb57c"
      },
      "execution_count": null,
      "outputs": [
        {
          "output_type": "display_data",
          "data": {
            "image/png": "[encoded data removed]",
            "text/plain": [
              "<Figure size 720x288 with 1 Axes>"
            ]
          },
          "metadata": {
            "needs_background": "light"
          }
        }
      ]
    },
    {
      "cell_type": "markdown",
      "source": [
        "2007 had the highest enrollment."
      ],
      "metadata": {
        "id": "V_a733uy5TWI"
      }
    },
    {
      "cell_type": "markdown",
      "source": [
        "#### Line Charts"
      ],
      "metadata": {
        "id": "3P37mc8VqcB3"
      }
    },
    {
      "cell_type": "code",
      "source": [
        "#Biviate analysis: Enrollment vs start month\n",
        "enrolmentDf=df2.groupby([df2.start_year]).sum()\n",
        "enrolmentDf.enrollment.plot(figsize=(10,5), linewidth=2, color=\"g\")\n",
        "plt.title('Enrollment vs start year line graph', fontsize=20, color=\"r\")\n",
        "plt.xlabel('Year', fontsize=10, color=\"r\");\n",
        "plt.ylabel('enrollment', fontsize=10, color=\"r\")\n",
        "plt.legend()\n",
        "plt.show()"
      ],
      "metadata": {
        "colab": {
          "base_uri": "https://localhost:8080/",
          "height": 355
        },
        "id": "E7Vxc86muwhH",
        "outputId": "3b75c475-2e7c-448d-8fe9-88b9f905f394"
      },
      "execution_count": null,
      "outputs": [
        {
          "output_type": "display_data",
          "data": {
            "image/png": "[encoded data removed]",
            "text/plain": [
              "<Figure size 720x360 with 1 Axes>"
            ]
          },
          "metadata": {
            "needs_background": "light"
          }
        }
      ]
    },
    {
      "cell_type": "markdown",
      "source": [
        "The year with the most enrollment was 2007"
      ],
      "metadata": {
        "id": "hDFSNMW7S3ax"
      }
    },
    {
      "cell_type": "code",
      "source": [
        "#Biviate analysis: Enrollment vs start month\n",
        "enrolmentDf=df2.groupby([df2.start_month]).sum()\n",
        "enrolmentDf.enrollment.plot(figsize=(10,5), linewidth=2, color=\"g\")\n",
        "plt.title('Enrollment vs start month line graph', fontsize=20, color=\"r\")\n",
        "plt.xlabel('Month', fontsize=10, color=\"r\");\n",
        "plt.ylabel('enrollment', fontsize=10, color=\"r\")\n",
        "plt.legend()\n",
        "plt.show()"
      ],
      "metadata": {
        "colab": {
          "base_uri": "https://localhost:8080/",
          "height": 355
        },
        "id": "A3-eVDOFuh-B",
        "outputId": "ce2575a2-9560-43f6-c605-4cef18fcdc85"
      },
      "execution_count": null,
      "outputs": [
        {
          "output_type": "display_data",
          "data": {
            "image/png": "[encoded data removed]",
            "text/plain": [
              "<Figure size 720x360 with 1 Axes>"
            ]
          },
          "metadata": {
            "needs_background": "light"
          }
        }
      ]
    },
    {
      "cell_type": "markdown",
      "source": [
        "October had the highest enrollment."
      ],
      "metadata": {
        "id": "Q_vJw1CUS7Nx"
      }
    },
    {
      "cell_type": "markdown",
      "source": [
        "### Multivariate Analysis"
      ],
      "metadata": {
        "id": "7siWaqBZiA3g"
      }
    },
    {
      "cell_type": "markdown",
      "source": [
        "> Label encoding had been done before and a new dataset df3 was formed."
      ],
      "metadata": {
        "id": "YwqF299pvx1d"
      }
    },
    {
      "cell_type": "markdown",
      "source": [
        "#### Linear Discriminant Analysis (LDA)"
      ],
      "metadata": {
        "id": "XkRvR6QE0iMO"
      }
    },
    {
      "cell_type": "code",
      "source": [
        "# Divide the dataset into features and corresponding labels.\n",
        "x= df3.drop([\"sponsor\"],1)\n",
        "y = df3[\"sponsor\"]"
      ],
      "metadata": {
        "id": "jlzVxYBp0vxe"
      },
      "execution_count": null,
      "outputs": []
    },
    {
      "cell_type": "code",
      "source": [
        "#checking for unique values of the target variable\n",
        "y.unique()"
      ],
      "metadata": {
        "colab": {
          "base_uri": "https://localhost:8080/"
        },
        "id": "C0-Wp-2xvlhs",
        "outputId": "18ba81ff-fdeb-4f31-cfc0-48a2c5f31180"
      },
      "execution_count": null,
      "outputs": [
        {
          "output_type": "execute_result",
          "data": {
            "text/plain": [
              "array([9, 7, 6, 5, 2, 1, 0, 4, 3, 8])"
            ]
          },
          "metadata": {},
          "execution_count": 44
        }
      ]
    },
    {
      "cell_type": "code",
      "source": [
        "#import Linear Discriminant Analysismethod from sklearn library\n",
        "from sklearn.model_selection import train_test_split\n",
        "from sklearn.discriminant_analysis import LinearDiscriminantAnalysis as LDA"
      ],
      "metadata": {
        "id": "QF5pX2rx06Ah"
      },
      "execution_count": null,
      "outputs": []
    },
    {
      "cell_type": "code",
      "source": [
        "#create an instance of LDA and train the model\n",
        "lda= LDA()\n",
        "\n",
        "lda_= lda.fit(x, y)\n",
        "lda_feat = lda_. transform(x)\n",
        "\n",
        "#displaying the coefficients of the reducted columns\n",
        "lda.coef_"
      ],
      "metadata": {
        "colab": {
          "base_uri": "https://localhost:8080/"
        },
        "id": "zyGAo7rwwXqk",
        "outputId": "21cd068b-ff63-44a6-fb7f-6046c6b42f65"
      },
      "execution_count": null,
      "outputs": [
        {
          "output_type": "execute_result",
          "data": {
            "text/plain": [
              "array([[-3.25396786e-05,  1.98069119e-01,  2.13054060e-02,\n",
              "         2.06587326e-03, -2.03735564e-04, -1.08535237e-01,\n",
              "        -3.63007277e-04],\n",
              "       [ 8.30508844e-05,  4.71855246e-02, -1.81848627e-02,\n",
              "         3.39677769e-02, -1.39273094e-04, -8.34811905e-02,\n",
              "        -6.47823529e-05],\n",
              "       [ 6.46829358e-05, -2.36429825e-03,  4.31923764e-03,\n",
              "        -1.67569432e-01,  2.42255380e-04, -4.21870965e-02,\n",
              "         3.98657254e-04],\n",
              "       [-1.24322038e-04,  1.14941288e-01, -8.39572193e-03,\n",
              "        -2.62744336e-03, -4.74347443e-04, -5.83935167e-02,\n",
              "        -4.12878730e-04],\n",
              "       [ 1.11886003e-05, -2.47854048e-03,  4.65717308e-03,\n",
              "         1.33671816e-01, -5.31656203e-04, -2.23413895e-02,\n",
              "         4.55601418e-04],\n",
              "       [-4.33945401e-05, -5.32133764e-02, -1.02639859e-02,\n",
              "        -5.92525114e-02,  4.69387054e-04,  6.44127525e-02,\n",
              "         2.00894025e-04],\n",
              "       [-5.64981336e-05,  2.25523387e-02,  1.29535772e-03,\n",
              "         9.00108005e-02, -1.49623401e-04,  2.23665353e-03,\n",
              "         2.15831371e-04],\n",
              "       [-6.72123530e-05, -7.13290699e-02, -8.02460481e-03,\n",
              "        -5.38835023e-03, -2.26767084e-04,  1.02112322e-01,\n",
              "        -1.10806232e-04],\n",
              "       [ 4.36876205e-05,  5.64989641e-02,  6.07796731e-04,\n",
              "         6.77658472e-02, -1.89573966e-04, -4.65117425e-02,\n",
              "        -1.58194987e-03],\n",
              "       [ 8.77347538e-05, -2.00361847e-02,  1.32371571e-02,\n",
              "         4.80864670e-02,  3.59699473e-04, -1.19957221e-02,\n",
              "        -3.20045209e-05]])"
            ]
          },
          "metadata": {},
          "execution_count": 46
        }
      ]
    },
    {
      "cell_type": "code",
      "source": [
        "#coeeficients are in array thus we need a new dataframe to get the column names\n",
        "feature_importance = pd.DataFrame(index=x.columns.values, data=lda_.coef_[0].T)\n",
        "feature_importance.sort_values(0, ascending= False)"
      ],
      "metadata": {
        "colab": {
          "base_uri": "https://localhost:8080/",
          "height": 269
        },
        "id": "0v3zq2eB1J_V",
        "outputId": "fea93fbf-3e45-4a33-9c82-913c5c8d2739"
      },
      "execution_count": null,
      "outputs": [
        {
          "output_type": "execute_result",
          "data": {
            "text/html": [
              "\n",
              "  <div id=\"df-011a2114-d0dd-454d-a48b-0f31ad1c2537\">\n",
              "    <div class=\"colab-df-container\">\n",
              "      <div>\n",
              "<style scoped>\n",
              "    .dataframe tbody tr th:only-of-type {\n",
              "        vertical-align: middle;\n",
              "    }\n",
              "\n",
              "    .dataframe tbody tr th {\n",
              "        vertical-align: top;\n",
              "    }\n",
              "\n",
              "    .dataframe thead th {\n",
              "        text-align: right;\n",
              "    }\n",
              "</style>\n",
              "<table border=\"1\" class=\"dataframe\">\n",
              "  <thead>\n",
              "    <tr style=\"text-align: right;\">\n",
              "      <th></th>\n",
              "      <th>0</th>\n",
              "    </tr>\n",
              "  </thead>\n",
              "  <tbody>\n",
              "    <tr>\n",
              "      <th>start_year</th>\n",
              "      <td>0.198069</td>\n",
              "    </tr>\n",
              "    <tr>\n",
              "      <th>start_month</th>\n",
              "      <td>0.021305</td>\n",
              "    </tr>\n",
              "    <tr>\n",
              "      <th>phase</th>\n",
              "      <td>0.002066</td>\n",
              "    </tr>\n",
              "    <tr>\n",
              "      <th>title</th>\n",
              "      <td>-0.000033</td>\n",
              "    </tr>\n",
              "    <tr>\n",
              "      <th>enrollment</th>\n",
              "      <td>-0.000204</td>\n",
              "    </tr>\n",
              "    <tr>\n",
              "      <th>condition</th>\n",
              "      <td>-0.000363</td>\n",
              "    </tr>\n",
              "    <tr>\n",
              "      <th>status</th>\n",
              "      <td>-0.108535</td>\n",
              "    </tr>\n",
              "  </tbody>\n",
              "</table>\n",
              "</div>\n",
              "      <button class=\"colab-df-convert\" onclick=\"convertToInteractive('df-011a2114-d0dd-454d-a48b-0f31ad1c2537')\"\n",
              "              title=\"Convert this dataframe to an interactive table.\"\n",
              "              style=\"display:none;\">\n",
              "        \n",
              "  <svg xmlns=\"http://www.w3.org/2000/svg\" height=\"24px\"viewBox=\"0 0 24 24\"\n",
              "       width=\"24px\">\n",
              "    <path d=\"M0 0h24v24H0V0z\" fill=\"none\"/>\n",
              "    <path d=\"M18.56 5.44l.94 2.06.94-2.06 2.06-.94-2.06-.94-.94-2.06-.94 2.06-2.06.94zm-11 1L8.5 8.5l.94-2.06 2.06-.94-2.06-.94L8.5 2.5l-.94 2.06-2.06.94zm10 10l.94 2.06.94-2.06 2.06-.94-2.06-.94-.94-2.06-.94 2.06-2.06.94z\"/><path d=\"M17.41 7.96l-1.37-1.37c-.4-.4-.92-.59-1.43-.59-.52 0-1.04.2-1.43.59L10.3 9.45l-7.72 7.72c-.78.78-.78 2.05 0 2.83L4 21.41c.39.39.9.59 1.41.59.51 0 1.02-.2 1.41-.59l7.78-7.78 2.81-2.81c.8-.78.8-2.07 0-2.86zM5.41 20L4 18.59l7.72-7.72 1.47 1.35L5.41 20z\"/>\n",
              "  </svg>\n",
              "      </button>\n",
              "      \n",
              "  <style>\n",
              "    .colab-df-container {\n",
              "      display:flex;\n",
              "      flex-wrap:wrap;\n",
              "      gap: 12px;\n",
              "    }\n",
              "\n",
              "    .colab-df-convert {\n",
              "      background-color: #E8F0FE;\n",
              "      border: none;\n",
              "      border-radius: 50%;\n",
              "      cursor: pointer;\n",
              "      display: none;\n",
              "      fill: #1967D2;\n",
              "      height: 32px;\n",
              "      padding: 0 0 0 0;\n",
              "      width: 32px;\n",
              "    }\n",
              "\n",
              "    .colab-df-convert:hover {\n",
              "      background-color: #E2EBFA;\n",
              "      box-shadow: 0px 1px 2px rgba(60, 64, 67, 0.3), 0px 1px 3px 1px rgba(60, 64, 67, 0.15);\n",
              "      fill: #174EA6;\n",
              "    }\n",
              "\n",
              "    [theme=dark] .colab-df-convert {\n",
              "      background-color: #3B4455;\n",
              "      fill: #D2E3FC;\n",
              "    }\n",
              "\n",
              "    [theme=dark] .colab-df-convert:hover {\n",
              "      background-color: #434B5C;\n",
              "      box-shadow: 0px 1px 3px 1px rgba(0, 0, 0, 0.15);\n",
              "      filter: drop-shadow(0px 1px 2px rgba(0, 0, 0, 0.3));\n",
              "      fill: #FFFFFF;\n",
              "    }\n",
              "  </style>\n",
              "\n",
              "      <script>\n",
              "        const buttonEl =\n",
              "          document.querySelector('#df-011a2114-d0dd-454d-a48b-0f31ad1c2537 button.colab-df-convert');\n",
              "        buttonEl.style.display =\n",
              "          google.colab.kernel.accessAllowed ? 'block' : 'none';\n",
              "\n",
              "        async function convertToInteractive(key) {\n",
              "          const element = document.querySelector('#df-011a2114-d0dd-454d-a48b-0f31ad1c2537');\n",
              "          const dataTable =\n",
              "            await google.colab.kernel.invokeFunction('convertToInteractive',\n",
              "                                                     [key], {});\n",
              "          if (!dataTable) return;\n",
              "\n",
              "          const docLinkHtml = 'Like what you see? Visit the ' +\n",
              "            '<a target=\"_blank\" href=https://colab.research.google.com/notebooks/data_table.ipynb>data table notebook</a>'\n",
              "            + ' to learn more about interactive tables.';\n",
              "          element.innerHTML = '';\n",
              "          dataTable['output_type'] = 'display_data';\n",
              "          await google.colab.output.renderOutput(dataTable, element);\n",
              "          const docLink = document.createElement('div');\n",
              "          docLink.innerHTML = docLinkHtml;\n",
              "          element.appendChild(docLink);\n",
              "        }\n",
              "      </script>\n",
              "    </div>\n",
              "  </div>\n",
              "  "
            ],
            "text/plain": [
              "                    0\n",
              "start_year   0.198069\n",
              "start_month  0.021305\n",
              "phase        0.002066\n",
              "title       -0.000033\n",
              "enrollment  -0.000204\n",
              "condition   -0.000363\n",
              "status      -0.108535"
            ]
          },
          "metadata": {},
          "execution_count": 47
        }
      ]
    },
    {
      "cell_type": "markdown",
      "source": [
        "## **7. Implementing the Solution**"
      ],
      "metadata": {
        "id": "yzdy1mQRh4wK"
      }
    },
    {
      "cell_type": "markdown",
      "source": [
        "### Assessing the Questions"
      ],
      "metadata": {
        "id": "PIG1AM9PhsAQ"
      }
    },
    {
      "cell_type": "code",
      "source": [
        "# 1. Which sponsor had done the most tests/ investigation\n",
        "df2['sponsor'].value_counts()"
      ],
      "metadata": {
        "id": "RKgzAQUqhR0Y",
        "colab": {
          "base_uri": "https://localhost:8080/"
        },
        "outputId": "a3e32fd3-d048-4ff7-d26b-e6a71ac8634c"
      },
      "execution_count": null,
      "outputs": [
        {
          "output_type": "execute_result",
          "data": {
            "text/plain": [
              "GSK         2473\n",
              "Novartis    2320\n",
              "Pfizer      1970\n",
              "Merck       1770\n",
              "Sanofi      1524\n",
              "JNJ         1143\n",
              "Roche       1095\n",
              "Bayer        619\n",
              "Gilead       417\n",
              "AbbVie       417\n",
              "Name: sponsor, dtype: int64"
            ]
          },
          "metadata": {},
          "execution_count": 112
        }
      ]
    },
    {
      "cell_type": "markdown",
      "source": [
        "GSK had done more tests."
      ],
      "metadata": {
        "id": "_wAEOwy319ax"
      }
    },
    {
      "cell_type": "code",
      "source": [
        "# 2. Which condition was most investigated?\n",
        "df['condition'].value_counts().head()"
      ],
      "metadata": {
        "id": "YKXvpzBOjyOY",
        "colab": {
          "base_uri": "https://localhost:8080/"
        },
        "outputId": "81cdcb5a-5459-4856-8499-4444246f8766"
      },
      "execution_count": null,
      "outputs": [
        {
          "output_type": "execute_result",
          "data": {
            "text/plain": [
              "Diabetes Mellitus, Type 2                 536\n",
              "Breast Neoplasms                          388\n",
              "Pulmonary Disease, Chronic Obstructive    339\n",
              "Hypertension                              338\n",
              "Asthma                                    334\n",
              "Name: condition, dtype: int64"
            ]
          },
          "metadata": {},
          "execution_count": 114
        }
      ]
    },
    {
      "cell_type": "markdown",
      "source": [
        "Diabetes Mellitus, Type 2 was the most investigated."
      ],
      "metadata": {
        "id": "zl_KU9fNkJYS"
      }
    },
    {
      "cell_type": "code",
      "source": [
        "# 3. Which sponsor had done the most tests on condition X(which is the most tested condition)?\n",
        "df['sponsor'][df['condition'] =='Diabetes Mellitus, Type 2'].value_counts()"
      ],
      "metadata": {
        "id": "B6_o3FnEj0_B",
        "colab": {
          "base_uri": "https://localhost:8080/"
        },
        "outputId": "1d4c93ea-b1eb-4e8b-fbab-2d3163128108"
      },
      "execution_count": null,
      "outputs": [
        {
          "output_type": "execute_result",
          "data": {
            "text/plain": [
              "Sanofi      111\n",
              "GSK         105\n",
              "Novartis     89\n",
              "Merck        75\n",
              "Roche        56\n",
              "Pfizer       50\n",
              "JNJ          42\n",
              "Bayer         5\n",
              "Gilead        3\n",
              "Name: sponsor, dtype: int64"
            ]
          },
          "metadata": {},
          "execution_count": 115
        }
      ]
    },
    {
      "cell_type": "markdown",
      "source": [
        "Sanofi had done the most tests on Diabetes Melitus, Type 2."
      ],
      "metadata": {
        "id": "wGM3dBpoVU_B"
      }
    },
    {
      "cell_type": "code",
      "source": [
        "# 4. Which condition had the sponsor with the most tests investigated?\n",
        "df['condition'][df['sponsor']== 'GSK'].value_counts().head()"
      ],
      "metadata": {
        "id": "aVjGErbgkVca",
        "colab": {
          "base_uri": "https://localhost:8080/"
        },
        "outputId": "3bf240b8-4e6f-472e-a69b-286ba82c0eac"
      },
      "execution_count": null,
      "outputs": [
        {
          "output_type": "execute_result",
          "data": {
            "text/plain": [
              "Pulmonary Disease, Chronic Obstructive    197\n",
              "Asthma                                    138\n",
              "Influenza, Human                          136\n",
              "Diabetes Mellitus, Type 2                 105\n",
              "Hepatitis B                                90\n",
              "Name: condition, dtype: int64"
            ]
          },
          "metadata": {},
          "execution_count": 117
        }
      ]
    },
    {
      "cell_type": "markdown",
      "source": [
        "Pulmonary Disease, Chronic Obstructive was the most investigated condition by GSK(sponsor with the most tests)."
      ],
      "metadata": {
        "id": "bf7QAcGIVfp8"
      }
    },
    {
      "cell_type": "code",
      "source": [
        "# 5. Which sponsor had the most successive completion of drug tests?\n",
        "df['sponsor'][df['status'] =='Completed'].value_counts().head()"
      ],
      "metadata": {
        "id": "MemkuiZkk6Cv",
        "colab": {
          "base_uri": "https://localhost:8080/"
        },
        "outputId": "6697c080-91a9-4449-a4b1-d717871252cb"
      },
      "execution_count": null,
      "outputs": [
        {
          "output_type": "execute_result",
          "data": {
            "text/plain": [
              "GSK         2116\n",
              "Novartis    1742\n",
              "Pfizer      1473\n",
              "Merck       1360\n",
              "Sanofi      1232\n",
              "Name: sponsor, dtype: int64"
            ]
          },
          "metadata": {},
          "execution_count": 118
        }
      ]
    },
    {
      "cell_type": "markdown",
      "source": [
        "GSK had the most successive completion of drug tests."
      ],
      "metadata": {
        "id": "kvQDOKdBVzoA"
      }
    },
    {
      "cell_type": "code",
      "source": [
        "# 6. Which year and month had the most tests/investigations?\n",
        "print(df['start_year'].value_counts().head())\n",
        "print(df['start_month'].value_counts().head())"
      ],
      "metadata": {
        "id": "XcG3eRxolEg5",
        "colab": {
          "base_uri": "https://localhost:8080/"
        },
        "outputId": "4752ada1-4715-4065-afdf-7ab970864b46"
      },
      "execution_count": null,
      "outputs": [
        {
          "output_type": "stream",
          "name": "stdout",
          "text": [
            "2007    1115\n",
            "2006    1104\n",
            "2008    1089\n",
            "2009     964\n",
            "2010     913\n",
            "Name: start_year, dtype: int64\n",
            "10    1302\n",
            "11    1260\n",
            "12    1259\n",
            "9     1217\n",
            "6     1185\n",
            "Name: start_month, dtype: int64\n"
          ]
        }
      ]
    },
    {
      "cell_type": "markdown",
      "source": [
        "2007 and October had the most tests done."
      ],
      "metadata": {
        "id": "67Ot1u_2V58W"
      }
    },
    {
      "cell_type": "markdown",
      "source": [
        "### Hypothesis Testing"
      ],
      "metadata": {
        "id": "XU_5vnAPtxAW"
      }
    },
    {
      "cell_type": "markdown",
      "source": [
        "> Null Hypothesis:  The number of completed tests done by GSK was greater than or equal to the withdrawn tests.\n",
        "\n",
        "H0 : Number of completed tests => Number of withdrawn tests\n",
        "\n",
        "> Alternative Hypothesis: The number of completed tests done by GSK was less than the withdrawn tests.\n",
        "\n",
        "H1 : Number of completed tests < Number of withdrawn tests\n"
      ],
      "metadata": {
        "id": "RgGOD6oqt0DY"
      }
    },
    {
      "cell_type": "code",
      "source": [
        "#creating a new dataset for the hypothesis testing\n",
        "gsk=df[df['sponsor']=='GSK']\n",
        "gsk"
      ],
      "metadata": {
        "id": "Dq0MC05H22iy",
        "colab": {
          "base_uri": "https://localhost:8080/",
          "height": 641
        },
        "outputId": "dd1015fe-9790-4dc2-bfb2-9913e6942efc"
      },
      "execution_count": null,
      "outputs": [
        {
          "output_type": "execute_result",
          "data": {
            "text/html": [
              "\n",
              "  <div id=\"df-3ddf0e66-876b-47f7-adee-c822a6c5b488\">\n",
              "    <div class=\"colab-df-container\">\n",
              "      <div>\n",
              "<style scoped>\n",
              "    .dataframe tbody tr th:only-of-type {\n",
              "        vertical-align: middle;\n",
              "    }\n",
              "\n",
              "    .dataframe tbody tr th {\n",
              "        vertical-align: top;\n",
              "    }\n",
              "\n",
              "    .dataframe thead th {\n",
              "        text-align: right;\n",
              "    }\n",
              "</style>\n",
              "<table border=\"1\" class=\"dataframe\">\n",
              "  <thead>\n",
              "    <tr style=\"text-align: right;\">\n",
              "      <th></th>\n",
              "      <th>nct</th>\n",
              "      <th>sponsor</th>\n",
              "      <th>title</th>\n",
              "      <th>start_year</th>\n",
              "      <th>start_month</th>\n",
              "      <th>phase</th>\n",
              "      <th>enrollment</th>\n",
              "      <th>status</th>\n",
              "      <th>condition</th>\n",
              "    </tr>\n",
              "  </thead>\n",
              "  <tbody>\n",
              "    <tr>\n",
              "      <th>7584</th>\n",
              "      <td>NCT00041509</td>\n",
              "      <td>GSK</td>\n",
              "      <td>ThromboEMbolism Prevention Efficacy and Safety...</td>\n",
              "      <td>2002.0</td>\n",
              "      <td>1.0</td>\n",
              "      <td>Phase 2</td>\n",
              "      <td>343.0</td>\n",
              "      <td>Completed</td>\n",
              "      <td>Thromboembolism</td>\n",
              "    </tr>\n",
              "    <tr>\n",
              "      <th>7585</th>\n",
              "      <td>NCT00379990</td>\n",
              "      <td>GSK</td>\n",
              "      <td>A Randomised, Double-blind, Placebo-controlled...</td>\n",
              "      <td>2006.0</td>\n",
              "      <td>1.0</td>\n",
              "      <td>Phase 2</td>\n",
              "      <td>48.0</td>\n",
              "      <td>Completed</td>\n",
              "      <td>Arthritis, Rheumatoid</td>\n",
              "    </tr>\n",
              "    <tr>\n",
              "      <th>7586</th>\n",
              "      <td>NCT02113436</td>\n",
              "      <td>GSK</td>\n",
              "      <td>Clinical Assessment of Fluticasone Propionate/...</td>\n",
              "      <td>2014.0</td>\n",
              "      <td>5.0</td>\n",
              "      <td>Phase 4</td>\n",
              "      <td>300.0</td>\n",
              "      <td>Completed</td>\n",
              "      <td>Asthma</td>\n",
              "    </tr>\n",
              "    <tr>\n",
              "      <th>7587</th>\n",
              "      <td>NCT02723786</td>\n",
              "      <td>GSK</td>\n",
              "      <td>A Phase 2 Pilot, Multicenter, Single Arm Study...</td>\n",
              "      <td>2016.0</td>\n",
              "      <td>8.0</td>\n",
              "      <td>Phase 2</td>\n",
              "      <td>31.0</td>\n",
              "      <td>Recruiting</td>\n",
              "      <td>Delayed Graft Function</td>\n",
              "    </tr>\n",
              "    <tr>\n",
              "      <th>7588</th>\n",
              "      <td>NCT01424501</td>\n",
              "      <td>GSK</td>\n",
              "      <td>Safety and Immunogenicity Study of GSK Biologi...</td>\n",
              "      <td>2011.0</td>\n",
              "      <td>11.0</td>\n",
              "      <td>Phase 2</td>\n",
              "      <td>142.0</td>\n",
              "      <td>Terminated</td>\n",
              "      <td>Tuberculosis</td>\n",
              "    </tr>\n",
              "    <tr>\n",
              "      <th>...</th>\n",
              "      <td>...</td>\n",
              "      <td>...</td>\n",
              "      <td>...</td>\n",
              "      <td>...</td>\n",
              "      <td>...</td>\n",
              "      <td>...</td>\n",
              "      <td>...</td>\n",
              "      <td>...</td>\n",
              "      <td>...</td>\n",
              "    </tr>\n",
              "    <tr>\n",
              "      <th>10052</th>\n",
              "      <td>NCT01128894</td>\n",
              "      <td>GSK</td>\n",
              "      <td>A Randomized, Open-Label, Parallel-Group, Mult...</td>\n",
              "      <td>2010.0</td>\n",
              "      <td>5.0</td>\n",
              "      <td>Phase 3</td>\n",
              "      <td>841.0</td>\n",
              "      <td>Completed</td>\n",
              "      <td>Diabetes Mellitus, Type 2</td>\n",
              "    </tr>\n",
              "    <tr>\n",
              "      <th>10053</th>\n",
              "      <td>NCT00025727</td>\n",
              "      <td>GSK</td>\n",
              "      <td>A Phase III, Randomized, Multicenter, Parallel...</td>\n",
              "      <td>2001.0</td>\n",
              "      <td>5.0</td>\n",
              "      <td>Phase 3</td>\n",
              "      <td>330.0</td>\n",
              "      <td>Unknown status</td>\n",
              "      <td>HIV Infections</td>\n",
              "    </tr>\n",
              "    <tr>\n",
              "      <th>10054</th>\n",
              "      <td>NCT01615796</td>\n",
              "      <td>GSK</td>\n",
              "      <td>A Two-Part Study to Evaluate Safety, Tolerabil...</td>\n",
              "      <td>2012.0</td>\n",
              "      <td>6.0</td>\n",
              "      <td>Phase 1</td>\n",
              "      <td>86.0</td>\n",
              "      <td>Completed</td>\n",
              "      <td>Respiratory Tract Infections</td>\n",
              "    </tr>\n",
              "    <tr>\n",
              "      <th>10055</th>\n",
              "      <td>NCT01462565</td>\n",
              "      <td>GSK</td>\n",
              "      <td>A Single-arm, Open Label Study Evaluating the ...</td>\n",
              "      <td>2011.0</td>\n",
              "      <td>11.0</td>\n",
              "      <td>Phase 4</td>\n",
              "      <td>16.0</td>\n",
              "      <td>Completed</td>\n",
              "      <td>Hypertension, Pulmonary</td>\n",
              "    </tr>\n",
              "    <tr>\n",
              "      <th>10056</th>\n",
              "      <td>NCT02000453</td>\n",
              "      <td>GSK</td>\n",
              "      <td>An Open Label, Experimental Medicine Investiga...</td>\n",
              "      <td>2013.0</td>\n",
              "      <td>12.0</td>\n",
              "      <td>Phase 1</td>\n",
              "      <td>2.0</td>\n",
              "      <td>Terminated</td>\n",
              "      <td>Colitis, Ulcerative</td>\n",
              "    </tr>\n",
              "  </tbody>\n",
              "</table>\n",
              "<p>2473 rows × 9 columns</p>\n",
              "</div>\n",
              "      <button class=\"colab-df-convert\" onclick=\"convertToInteractive('df-3ddf0e66-876b-47f7-adee-c822a6c5b488')\"\n",
              "              title=\"Convert this dataframe to an interactive table.\"\n",
              "              style=\"display:none;\">\n",
              "        \n",
              "  <svg xmlns=\"http://www.w3.org/2000/svg\" height=\"24px\"viewBox=\"0 0 24 24\"\n",
              "       width=\"24px\">\n",
              "    <path d=\"M0 0h24v24H0V0z\" fill=\"none\"/>\n",
              "    <path d=\"M18.56 5.44l.94 2.06.94-2.06 2.06-.94-2.06-.94-.94-2.06-.94 2.06-2.06.94zm-11 1L8.5 8.5l.94-2.06 2.06-.94-2.06-.94L8.5 2.5l-.94 2.06-2.06.94zm10 10l.94 2.06.94-2.06 2.06-.94-2.06-.94-.94-2.06-.94 2.06-2.06.94z\"/><path d=\"M17.41 7.96l-1.37-1.37c-.4-.4-.92-.59-1.43-.59-.52 0-1.04.2-1.43.59L10.3 9.45l-7.72 7.72c-.78.78-.78 2.05 0 2.83L4 21.41c.39.39.9.59 1.41.59.51 0 1.02-.2 1.41-.59l7.78-7.78 2.81-2.81c.8-.78.8-2.07 0-2.86zM5.41 20L4 18.59l7.72-7.72 1.47 1.35L5.41 20z\"/>\n",
              "  </svg>\n",
              "      </button>\n",
              "      \n",
              "  <style>\n",
              "    .colab-df-container {\n",
              "      display:flex;\n",
              "      flex-wrap:wrap;\n",
              "      gap: 12px;\n",
              "    }\n",
              "\n",
              "    .colab-df-convert {\n",
              "      background-color: #E8F0FE;\n",
              "      border: none;\n",
              "      border-radius: 50%;\n",
              "      cursor: pointer;\n",
              "      display: none;\n",
              "      fill: #1967D2;\n",
              "      height: 32px;\n",
              "      padding: 0 0 0 0;\n",
              "      width: 32px;\n",
              "    }\n",
              "\n",
              "    .colab-df-convert:hover {\n",
              "      background-color: #E2EBFA;\n",
              "      box-shadow: 0px 1px 2px rgba(60, 64, 67, 0.3), 0px 1px 3px 1px rgba(60, 64, 67, 0.15);\n",
              "      fill: #174EA6;\n",
              "    }\n",
              "\n",
              "    [theme=dark] .colab-df-convert {\n",
              "      background-color: #3B4455;\n",
              "      fill: #D2E3FC;\n",
              "    }\n",
              "\n",
              "    [theme=dark] .colab-df-convert:hover {\n",
              "      background-color: #434B5C;\n",
              "      box-shadow: 0px 1px 3px 1px rgba(0, 0, 0, 0.15);\n",
              "      filter: drop-shadow(0px 1px 2px rgba(0, 0, 0, 0.3));\n",
              "      fill: #FFFFFF;\n",
              "    }\n",
              "  </style>\n",
              "\n",
              "      <script>\n",
              "        const buttonEl =\n",
              "          document.querySelector('#df-3ddf0e66-876b-47f7-adee-c822a6c5b488 button.colab-df-convert');\n",
              "        buttonEl.style.display =\n",
              "          google.colab.kernel.accessAllowed ? 'block' : 'none';\n",
              "\n",
              "        async function convertToInteractive(key) {\n",
              "          const element = document.querySelector('#df-3ddf0e66-876b-47f7-adee-c822a6c5b488');\n",
              "          const dataTable =\n",
              "            await google.colab.kernel.invokeFunction('convertToInteractive',\n",
              "                                                     [key], {});\n",
              "          if (!dataTable) return;\n",
              "\n",
              "          const docLinkHtml = 'Like what you see? Visit the ' +\n",
              "            '<a target=\"_blank\" href=https://colab.research.google.com/notebooks/data_table.ipynb>data table notebook</a>'\n",
              "            + ' to learn more about interactive tables.';\n",
              "          element.innerHTML = '';\n",
              "          dataTable['output_type'] = 'display_data';\n",
              "          await google.colab.output.renderOutput(dataTable, element);\n",
              "          const docLink = document.createElement('div');\n",
              "          docLink.innerHTML = docLinkHtml;\n",
              "          element.appendChild(docLink);\n",
              "        }\n",
              "      </script>\n",
              "    </div>\n",
              "  </div>\n",
              "  "
            ],
            "text/plain": [
              "               nct sponsor  ...          status                     condition\n",
              "7584   NCT00041509     GSK  ...       Completed               Thromboembolism\n",
              "7585   NCT00379990     GSK  ...       Completed         Arthritis, Rheumatoid\n",
              "7586   NCT02113436     GSK  ...       Completed                        Asthma\n",
              "7587   NCT02723786     GSK  ...      Recruiting        Delayed Graft Function\n",
              "7588   NCT01424501     GSK  ...      Terminated                  Tuberculosis\n",
              "...            ...     ...  ...             ...                           ...\n",
              "10052  NCT01128894     GSK  ...       Completed     Diabetes Mellitus, Type 2\n",
              "10053  NCT00025727     GSK  ...  Unknown status                HIV Infections\n",
              "10054  NCT01615796     GSK  ...       Completed  Respiratory Tract Infections\n",
              "10055  NCT01462565     GSK  ...       Completed       Hypertension, Pulmonary\n",
              "10056  NCT02000453     GSK  ...      Terminated           Colitis, Ulcerative\n",
              "\n",
              "[2473 rows x 9 columns]"
            ]
          },
          "metadata": {},
          "execution_count": 50
        }
      ]
    },
    {
      "cell_type": "code",
      "source": [
        "#getting the shape of the new dataset\n",
        "gsk.shape"
      ],
      "metadata": {
        "id": "PaYr2zNx3jXi",
        "colab": {
          "base_uri": "https://localhost:8080/"
        },
        "outputId": "4fcc556b-2d01-4207-938b-148b55ddaad7"
      },
      "execution_count": null,
      "outputs": [
        {
          "output_type": "execute_result",
          "data": {
            "text/plain": [
              "(2473, 9)"
            ]
          },
          "metadata": {},
          "execution_count": 51
        }
      ]
    },
    {
      "cell_type": "markdown",
      "source": [
        "It has 2473 records and 9 variables."
      ],
      "metadata": {
        "id": "Jj1jOlWUVQRT"
      }
    },
    {
      "cell_type": "code",
      "source": [
        "# getting a stratified sample\n",
        "gsk_sample = gsk.groupby('status', group_keys=False).apply(lambda grouped_subset : grouped_subset.sample(frac=0.1))\n",
        "gsk_sample"
      ],
      "metadata": {
        "id": "MLjRUmlm3pJX",
        "colab": {
          "base_uri": "https://localhost:8080/",
          "height": 815
        },
        "outputId": "489d0655-03d8-49d7-a5e3-a88414bcb032"
      },
      "execution_count": null,
      "outputs": [
        {
          "output_type": "execute_result",
          "data": {
            "text/html": [
              "\n",
              "  <div id=\"df-5a43b5f5-23b3-421d-a944-9c10bd8e15d4\">\n",
              "    <div class=\"colab-df-container\">\n",
              "      <div>\n",
              "<style scoped>\n",
              "    .dataframe tbody tr th:only-of-type {\n",
              "        vertical-align: middle;\n",
              "    }\n",
              "\n",
              "    .dataframe tbody tr th {\n",
              "        vertical-align: top;\n",
              "    }\n",
              "\n",
              "    .dataframe thead th {\n",
              "        text-align: right;\n",
              "    }\n",
              "</style>\n",
              "<table border=\"1\" class=\"dataframe\">\n",
              "  <thead>\n",
              "    <tr style=\"text-align: right;\">\n",
              "      <th></th>\n",
              "      <th>nct</th>\n",
              "      <th>sponsor</th>\n",
              "      <th>title</th>\n",
              "      <th>start_year</th>\n",
              "      <th>start_month</th>\n",
              "      <th>phase</th>\n",
              "      <th>enrollment</th>\n",
              "      <th>status</th>\n",
              "      <th>condition</th>\n",
              "    </tr>\n",
              "  </thead>\n",
              "  <tbody>\n",
              "    <tr>\n",
              "      <th>9620</th>\n",
              "      <td>NCT02820844</td>\n",
              "      <td>GSK</td>\n",
              "      <td>A Phase III Study to Evaluate the Efficacy and...</td>\n",
              "      <td>2016</td>\n",
              "      <td>8</td>\n",
              "      <td>Phase 3</td>\n",
              "      <td>250</td>\n",
              "      <td>Active, not recruiting</td>\n",
              "      <td>Urinary Bladder, Overactive</td>\n",
              "    </tr>\n",
              "    <tr>\n",
              "      <th>9123</th>\n",
              "      <td>NCT03261167</td>\n",
              "      <td>GSK</td>\n",
              "      <td>A Phase III Study (a Placebo Controlled, Rando...</td>\n",
              "      <td>2017</td>\n",
              "      <td>8</td>\n",
              "      <td>Phase 3</td>\n",
              "      <td>124</td>\n",
              "      <td>Active, not recruiting</td>\n",
              "      <td>Stroke</td>\n",
              "    </tr>\n",
              "    <tr>\n",
              "      <th>9308</th>\n",
              "      <td>NCT03069989</td>\n",
              "      <td>GSK</td>\n",
              "      <td>A Study of Single Doses to Evaluate the Safety...</td>\n",
              "      <td>2017</td>\n",
              "      <td>6</td>\n",
              "      <td>Phase 1</td>\n",
              "      <td>8</td>\n",
              "      <td>Active, not recruiting</td>\n",
              "      <td>Idiopathic Pulmonary Fibrosis</td>\n",
              "    </tr>\n",
              "    <tr>\n",
              "      <th>8554</th>\n",
              "      <td>NCT02119156</td>\n",
              "      <td>GSK</td>\n",
              "      <td>An Open-label, Non-randomized, 52-Week Study t...</td>\n",
              "      <td>2014</td>\n",
              "      <td>5</td>\n",
              "      <td>Phase 3</td>\n",
              "      <td>163</td>\n",
              "      <td>Active, not recruiting</td>\n",
              "      <td>Lupus Erythematosus, Systemic</td>\n",
              "    </tr>\n",
              "    <tr>\n",
              "      <th>8819</th>\n",
              "      <td>NCT01602900</td>\n",
              "      <td>GSK</td>\n",
              "      <td>An Open Label Positron Emission Tomography Stu...</td>\n",
              "      <td>2011</td>\n",
              "      <td>11</td>\n",
              "      <td>Phase 1</td>\n",
              "      <td>8</td>\n",
              "      <td>Completed</td>\n",
              "      <td>Huntington Disease</td>\n",
              "    </tr>\n",
              "    <tr>\n",
              "      <th>...</th>\n",
              "      <td>...</td>\n",
              "      <td>...</td>\n",
              "      <td>...</td>\n",
              "      <td>...</td>\n",
              "      <td>...</td>\n",
              "      <td>...</td>\n",
              "      <td>...</td>\n",
              "      <td>...</td>\n",
              "      <td>...</td>\n",
              "    </tr>\n",
              "    <tr>\n",
              "      <th>8880</th>\n",
              "      <td>NCT02135666</td>\n",
              "      <td>GSK</td>\n",
              "      <td>Long-term Hepatitis A and B Antibody Persisten...</td>\n",
              "      <td>2015</td>\n",
              "      <td>5</td>\n",
              "      <td>Phase 4</td>\n",
              "      <td>0</td>\n",
              "      <td>Withdrawn</td>\n",
              "      <td>Hepatitis B</td>\n",
              "    </tr>\n",
              "    <tr>\n",
              "      <th>9637</th>\n",
              "      <td>NCT02229240</td>\n",
              "      <td>GSK</td>\n",
              "      <td>Study GLP111892: Albiglutide Versus Placebo as...</td>\n",
              "      <td>2015</td>\n",
              "      <td>8</td>\n",
              "      <td>Phase 3</td>\n",
              "      <td>0</td>\n",
              "      <td>Withdrawn</td>\n",
              "      <td>Diabetes Mellitus, Type 2</td>\n",
              "    </tr>\n",
              "    <tr>\n",
              "      <th>9623</th>\n",
              "      <td>NCT02034097</td>\n",
              "      <td>GSK</td>\n",
              "      <td>A Phase II Study to Evaluate Foretinib in Geno...</td>\n",
              "      <td>2014</td>\n",
              "      <td>4</td>\n",
              "      <td>Phase 2</td>\n",
              "      <td>0</td>\n",
              "      <td>Withdrawn</td>\n",
              "      <td>Carcinoma, Non-Small-Cell Lung</td>\n",
              "    </tr>\n",
              "    <tr>\n",
              "      <th>7668</th>\n",
              "      <td>NCT01039610</td>\n",
              "      <td>GSK</td>\n",
              "      <td>A Single Center Four Part Study in Healthy Adu...</td>\n",
              "      <td>2009</td>\n",
              "      <td>11</td>\n",
              "      <td>Phase 1</td>\n",
              "      <td>0</td>\n",
              "      <td>Withdrawn</td>\n",
              "      <td>Bacterial Infections</td>\n",
              "    </tr>\n",
              "    <tr>\n",
              "      <th>8609</th>\n",
              "      <td>NCT02730364</td>\n",
              "      <td>GSK</td>\n",
              "      <td>An Open-label, Multicenter, Randomized, Parall...</td>\n",
              "      <td>2017</td>\n",
              "      <td>2</td>\n",
              "      <td>Phase 3</td>\n",
              "      <td>0</td>\n",
              "      <td>Withdrawn</td>\n",
              "      <td>Respiratory Tract Infections</td>\n",
              "    </tr>\n",
              "  </tbody>\n",
              "</table>\n",
              "<p>247 rows × 9 columns</p>\n",
              "</div>\n",
              "      <button class=\"colab-df-convert\" onclick=\"convertToInteractive('df-5a43b5f5-23b3-421d-a944-9c10bd8e15d4')\"\n",
              "              title=\"Convert this dataframe to an interactive table.\"\n",
              "              style=\"display:none;\">\n",
              "        \n",
              "  <svg xmlns=\"http://www.w3.org/2000/svg\" height=\"24px\"viewBox=\"0 0 24 24\"\n",
              "       width=\"24px\">\n",
              "    <path d=\"M0 0h24v24H0V0z\" fill=\"none\"/>\n",
              "    <path d=\"M18.56 5.44l.94 2.06.94-2.06 2.06-.94-2.06-.94-.94-2.06-.94 2.06-2.06.94zm-11 1L8.5 8.5l.94-2.06 2.06-.94-2.06-.94L8.5 2.5l-.94 2.06-2.06.94zm10 10l.94 2.06.94-2.06 2.06-.94-2.06-.94-.94-2.06-.94 2.06-2.06.94z\"/><path d=\"M17.41 7.96l-1.37-1.37c-.4-.4-.92-.59-1.43-.59-.52 0-1.04.2-1.43.59L10.3 9.45l-7.72 7.72c-.78.78-.78 2.05 0 2.83L4 21.41c.39.39.9.59 1.41.59.51 0 1.02-.2 1.41-.59l7.78-7.78 2.81-2.81c.8-.78.8-2.07 0-2.86zM5.41 20L4 18.59l7.72-7.72 1.47 1.35L5.41 20z\"/>\n",
              "  </svg>\n",
              "      </button>\n",
              "      \n",
              "  <style>\n",
              "    .colab-df-container {\n",
              "      display:flex;\n",
              "      flex-wrap:wrap;\n",
              "      gap: 12px;\n",
              "    }\n",
              "\n",
              "    .colab-df-convert {\n",
              "      background-color: #E8F0FE;\n",
              "      border: none;\n",
              "      border-radius: 50%;\n",
              "      cursor: pointer;\n",
              "      display: none;\n",
              "      fill: #1967D2;\n",
              "      height: 32px;\n",
              "      padding: 0 0 0 0;\n",
              "      width: 32px;\n",
              "    }\n",
              "\n",
              "    .colab-df-convert:hover {\n",
              "      background-color: #E2EBFA;\n",
              "      box-shadow: 0px 1px 2px rgba(60, 64, 67, 0.3), 0px 1px 3px 1px rgba(60, 64, 67, 0.15);\n",
              "      fill: #174EA6;\n",
              "    }\n",
              "\n",
              "    [theme=dark] .colab-df-convert {\n",
              "      background-color: #3B4455;\n",
              "      fill: #D2E3FC;\n",
              "    }\n",
              "\n",
              "    [theme=dark] .colab-df-convert:hover {\n",
              "      background-color: #434B5C;\n",
              "      box-shadow: 0px 1px 3px 1px rgba(0, 0, 0, 0.15);\n",
              "      filter: drop-shadow(0px 1px 2px rgba(0, 0, 0, 0.3));\n",
              "      fill: #FFFFFF;\n",
              "    }\n",
              "  </style>\n",
              "\n",
              "      <script>\n",
              "        const buttonEl =\n",
              "          document.querySelector('#df-5a43b5f5-23b3-421d-a944-9c10bd8e15d4 button.colab-df-convert');\n",
              "        buttonEl.style.display =\n",
              "          google.colab.kernel.accessAllowed ? 'block' : 'none';\n",
              "\n",
              "        async function convertToInteractive(key) {\n",
              "          const element = document.querySelector('#df-5a43b5f5-23b3-421d-a944-9c10bd8e15d4');\n",
              "          const dataTable =\n",
              "            await google.colab.kernel.invokeFunction('convertToInteractive',\n",
              "                                                     [key], {});\n",
              "          if (!dataTable) return;\n",
              "\n",
              "          const docLinkHtml = 'Like what you see? Visit the ' +\n",
              "            '<a target=\"_blank\" href=https://colab.research.google.com/notebooks/data_table.ipynb>data table notebook</a>'\n",
              "            + ' to learn more about interactive tables.';\n",
              "          element.innerHTML = '';\n",
              "          dataTable['output_type'] = 'display_data';\n",
              "          await google.colab.output.renderOutput(dataTable, element);\n",
              "          const docLink = document.createElement('div');\n",
              "          docLink.innerHTML = docLinkHtml;\n",
              "          element.appendChild(docLink);\n",
              "        }\n",
              "      </script>\n",
              "    </div>\n",
              "  </div>\n",
              "  "
            ],
            "text/plain": [
              "              nct  ...                       condition\n",
              "9620  NCT02820844  ...     Urinary Bladder, Overactive\n",
              "9123  NCT03261167  ...                          Stroke\n",
              "9308  NCT03069989  ...   Idiopathic Pulmonary Fibrosis\n",
              "8554  NCT02119156  ...   Lupus Erythematosus, Systemic\n",
              "8819  NCT01602900  ...              Huntington Disease\n",
              "...           ...  ...                             ...\n",
              "8880  NCT02135666  ...                     Hepatitis B\n",
              "9637  NCT02229240  ...       Diabetes Mellitus, Type 2\n",
              "9623  NCT02034097  ...  Carcinoma, Non-Small-Cell Lung\n",
              "7668  NCT01039610  ...            Bacterial Infections\n",
              "8609  NCT02730364  ...    Respiratory Tract Infections\n",
              "\n",
              "[247 rows x 9 columns]"
            ]
          },
          "metadata": {},
          "execution_count": 123
        }
      ]
    },
    {
      "cell_type": "code",
      "source": [
        "#performing normality test\n",
        "# Importing libraries to plot our Q-Q plot\n",
        "from statsmodels.graphics.gofplots import qqplot\n",
        "from matplotlib import pyplot\n",
        "\n",
        "# q-q plot\n",
        "plt.figure(figsize=(10, 4))\n",
        "qqplot(df2['enrollment'], line='s')\n",
        "pyplot.show();\n"
      ],
      "metadata": {
        "id": "2uWGslJ-4n7w",
        "colab": {
          "base_uri": "https://localhost:8080/",
          "height": 296
        },
        "outputId": "b1e0e61b-b501-493e-acb8-370325849e7d"
      },
      "execution_count": null,
      "outputs": [
        {
          "output_type": "display_data",
          "data": {
            "text/plain": [
              "<Figure size 720x288 with 0 Axes>"
            ]
          },
          "metadata": {}
        },
        {
          "output_type": "display_data",
          "data": {
            "image/png": "[encoded data removed]",
            "text/plain": [
              "<Figure size 720x288 with 1 Axes>"
            ]
          },
          "metadata": {
            "needs_background": "light"
          }
        }
      ]
    },
    {
      "cell_type": "markdown",
      "source": [
        "Enrollment column is not normally distributed."
      ],
      "metadata": {
        "id": "_LqvzBmKUa89"
      }
    },
    {
      "cell_type": "code",
      "source": [
        "#imorting libraries necessary for the hypothesis testing\n",
        "import statsmodels.api as sm\n",
        "from scipy.stats import norm\n",
        "import pylab\n",
        "\n",
        "from statsmodels.stats import weightstats as stests\n",
        "%matplotlib inline"
      ],
      "metadata": {
        "id": "IgGT61HM09sA"
      },
      "execution_count": null,
      "outputs": []
    },
    {
      "cell_type": "code",
      "source": [
        "#encoding the object columns\n",
        "columns = ['sponsor',\t'title',\t'start_year',\t'start_month',\t'phase', 'enrollment',\t'status', 'condition']\n",
        "#\n",
        "# we convert the categorical variables \n",
        "#\n",
        "df4= gsk_sample[columns].apply(LabelEncoder().fit_transform)\n",
        "#\n",
        "# Print head\n",
        "#\n",
        "df4.head()"
      ],
      "metadata": {
        "colab": {
          "base_uri": "https://localhost:8080/",
          "height": 206
        },
        "id": "NONF1KRO10c7",
        "outputId": "70698116-22ad-47f0-d0aa-5f4f2a9127d8"
      },
      "execution_count": null,
      "outputs": [
        {
          "output_type": "execute_result",
          "data": {
            "text/html": [
              "\n",
              "  <div id=\"df-26177ecb-8808-44c4-9fa1-3c9a7cb3d9e9\">\n",
              "    <div class=\"colab-df-container\">\n",
              "      <div>\n",
              "<style scoped>\n",
              "    .dataframe tbody tr th:only-of-type {\n",
              "        vertical-align: middle;\n",
              "    }\n",
              "\n",
              "    .dataframe tbody tr th {\n",
              "        vertical-align: top;\n",
              "    }\n",
              "\n",
              "    .dataframe thead th {\n",
              "        text-align: right;\n",
              "    }\n",
              "</style>\n",
              "<table border=\"1\" class=\"dataframe\">\n",
              "  <thead>\n",
              "    <tr style=\"text-align: right;\">\n",
              "      <th></th>\n",
              "      <th>sponsor</th>\n",
              "      <th>title</th>\n",
              "      <th>start_year</th>\n",
              "      <th>start_month</th>\n",
              "      <th>phase</th>\n",
              "      <th>enrollment</th>\n",
              "      <th>status</th>\n",
              "      <th>condition</th>\n",
              "    </tr>\n",
              "  </thead>\n",
              "  <tbody>\n",
              "    <tr>\n",
              "      <th>9620</th>\n",
              "      <td>0</td>\n",
              "      <td>48</td>\n",
              "      <td>20</td>\n",
              "      <td>7</td>\n",
              "      <td>4</td>\n",
              "      <td>100</td>\n",
              "      <td>0</td>\n",
              "      <td>109</td>\n",
              "    </tr>\n",
              "    <tr>\n",
              "      <th>9123</th>\n",
              "      <td>0</td>\n",
              "      <td>46</td>\n",
              "      <td>21</td>\n",
              "      <td>7</td>\n",
              "      <td>4</td>\n",
              "      <td>70</td>\n",
              "      <td>0</td>\n",
              "      <td>104</td>\n",
              "    </tr>\n",
              "    <tr>\n",
              "      <th>9308</th>\n",
              "      <td>0</td>\n",
              "      <td>115</td>\n",
              "      <td>21</td>\n",
              "      <td>5</td>\n",
              "      <td>0</td>\n",
              "      <td>5</td>\n",
              "      <td>0</td>\n",
              "      <td>53</td>\n",
              "    </tr>\n",
              "    <tr>\n",
              "      <th>8554</th>\n",
              "      <td>0</td>\n",
              "      <td>150</td>\n",
              "      <td>18</td>\n",
              "      <td>4</td>\n",
              "      <td>4</td>\n",
              "      <td>82</td>\n",
              "      <td>0</td>\n",
              "      <td>62</td>\n",
              "    </tr>\n",
              "    <tr>\n",
              "      <th>8819</th>\n",
              "      <td>0</td>\n",
              "      <td>131</td>\n",
              "      <td>15</td>\n",
              "      <td>10</td>\n",
              "      <td>0</td>\n",
              "      <td>5</td>\n",
              "      <td>1</td>\n",
              "      <td>48</td>\n",
              "    </tr>\n",
              "  </tbody>\n",
              "</table>\n",
              "</div>\n",
              "      <button class=\"colab-df-convert\" onclick=\"convertToInteractive('df-26177ecb-8808-44c4-9fa1-3c9a7cb3d9e9')\"\n",
              "              title=\"Convert this dataframe to an interactive table.\"\n",
              "              style=\"display:none;\">\n",
              "        \n",
              "  <svg xmlns=\"http://www.w3.org/2000/svg\" height=\"24px\"viewBox=\"0 0 24 24\"\n",
              "       width=\"24px\">\n",
              "    <path d=\"M0 0h24v24H0V0z\" fill=\"none\"/>\n",
              "    <path d=\"M18.56 5.44l.94 2.06.94-2.06 2.06-.94-2.06-.94-.94-2.06-.94 2.06-2.06.94zm-11 1L8.5 8.5l.94-2.06 2.06-.94-2.06-.94L8.5 2.5l-.94 2.06-2.06.94zm10 10l.94 2.06.94-2.06 2.06-.94-2.06-.94-.94-2.06-.94 2.06-2.06.94z\"/><path d=\"M17.41 7.96l-1.37-1.37c-.4-.4-.92-.59-1.43-.59-.52 0-1.04.2-1.43.59L10.3 9.45l-7.72 7.72c-.78.78-.78 2.05 0 2.83L4 21.41c.39.39.9.59 1.41.59.51 0 1.02-.2 1.41-.59l7.78-7.78 2.81-2.81c.8-.78.8-2.07 0-2.86zM5.41 20L4 18.59l7.72-7.72 1.47 1.35L5.41 20z\"/>\n",
              "  </svg>\n",
              "      </button>\n",
              "      \n",
              "  <style>\n",
              "    .colab-df-container {\n",
              "      display:flex;\n",
              "      flex-wrap:wrap;\n",
              "      gap: 12px;\n",
              "    }\n",
              "\n",
              "    .colab-df-convert {\n",
              "      background-color: #E8F0FE;\n",
              "      border: none;\n",
              "      border-radius: 50%;\n",
              "      cursor: pointer;\n",
              "      display: none;\n",
              "      fill: #1967D2;\n",
              "      height: 32px;\n",
              "      padding: 0 0 0 0;\n",
              "      width: 32px;\n",
              "    }\n",
              "\n",
              "    .colab-df-convert:hover {\n",
              "      background-color: #E2EBFA;\n",
              "      box-shadow: 0px 1px 2px rgba(60, 64, 67, 0.3), 0px 1px 3px 1px rgba(60, 64, 67, 0.15);\n",
              "      fill: #174EA6;\n",
              "    }\n",
              "\n",
              "    [theme=dark] .colab-df-convert {\n",
              "      background-color: #3B4455;\n",
              "      fill: #D2E3FC;\n",
              "    }\n",
              "\n",
              "    [theme=dark] .colab-df-convert:hover {\n",
              "      background-color: #434B5C;\n",
              "      box-shadow: 0px 1px 3px 1px rgba(0, 0, 0, 0.15);\n",
              "      filter: drop-shadow(0px 1px 2px rgba(0, 0, 0, 0.3));\n",
              "      fill: #FFFFFF;\n",
              "    }\n",
              "  </style>\n",
              "\n",
              "      <script>\n",
              "        const buttonEl =\n",
              "          document.querySelector('#df-26177ecb-8808-44c4-9fa1-3c9a7cb3d9e9 button.colab-df-convert');\n",
              "        buttonEl.style.display =\n",
              "          google.colab.kernel.accessAllowed ? 'block' : 'none';\n",
              "\n",
              "        async function convertToInteractive(key) {\n",
              "          const element = document.querySelector('#df-26177ecb-8808-44c4-9fa1-3c9a7cb3d9e9');\n",
              "          const dataTable =\n",
              "            await google.colab.kernel.invokeFunction('convertToInteractive',\n",
              "                                                     [key], {});\n",
              "          if (!dataTable) return;\n",
              "\n",
              "          const docLinkHtml = 'Like what you see? Visit the ' +\n",
              "            '<a target=\"_blank\" href=https://colab.research.google.com/notebooks/data_table.ipynb>data table notebook</a>'\n",
              "            + ' to learn more about interactive tables.';\n",
              "          element.innerHTML = '';\n",
              "          dataTable['output_type'] = 'display_data';\n",
              "          await google.colab.output.renderOutput(dataTable, element);\n",
              "          const docLink = document.createElement('div');\n",
              "          docLink.innerHTML = docLinkHtml;\n",
              "          element.appendChild(docLink);\n",
              "        }\n",
              "      </script>\n",
              "    </div>\n",
              "  </div>\n",
              "  "
            ],
            "text/plain": [
              "      sponsor  title  start_year  ...  enrollment  status  condition\n",
              "9620        0     48          20  ...         100       0        109\n",
              "9123        0     46          21  ...          70       0        104\n",
              "9308        0    115          21  ...           5       0         53\n",
              "8554        0    150          18  ...          82       0         62\n",
              "8819        0    131          15  ...           5       1         48\n",
              "\n",
              "[5 rows x 8 columns]"
            ]
          },
          "metadata": {},
          "execution_count": 136
        }
      ]
    },
    {
      "cell_type": "code",
      "source": [
        "#finding the p value using ztest\n",
        "ztest ,pval1 = stests.ztest(x1=df4['status'], x2=df4['status'], value=0,alternative='two-sided')\n",
        "print(float(pval1))\n",
        "if pval1<0.05:\n",
        "    print(\"Reject Null Hypothesis\")\n",
        "else:\n",
        "    print(\"Accept Null Hypothesis\")"
      ],
      "metadata": {
        "id": "JhmC4qdT8hKk",
        "colab": {
          "base_uri": "https://localhost:8080/"
        },
        "outputId": "7e51b9c6-2d8b-4e3f-b46a-30053d1d3950"
      },
      "execution_count": null,
      "outputs": [
        {
          "output_type": "stream",
          "name": "stdout",
          "text": [
            "1.0\n",
            "Accept Null Hypothesis\n"
          ]
        }
      ]
    },
    {
      "cell_type": "markdown",
      "source": [
        "The p value(1.0) is greater than the significance level(alpha=0.05) thus is not statistically significant and indicates strong evidence for the null hypothesis. We therefore fail to reject the null hypothesis thus there the number of completed tests done by GSK (​GlaxoSmithKline plc )was greater than or equal to the withdrawn tests"
      ],
      "metadata": {
        "id": "18M16d4hMdrF"
      }
    },
    {
      "cell_type": "markdown",
      "source": [
        "## **8.Challenging the solution**"
      ],
      "metadata": {
        "id": "wXEa7pS_JZxU"
      }
    },
    {
      "cell_type": "code",
      "source": [
        "#importing necessary libaries\n",
        "from scipy.stats import chi2_contingency\n"
      ],
      "metadata": {
        "id": "XmH_qGfP_cN5"
      },
      "execution_count": null,
      "outputs": []
    },
    {
      "cell_type": "code",
      "source": [
        "#installing biokitinfo\n",
        "!pip install bioinfokit"
      ],
      "metadata": {
        "colab": {
          "base_uri": "https://localhost:8080/"
        },
        "id": "LnGRau9J_fqa",
        "outputId": "04e29bfe-ed2d-421a-b17c-a286a336e9c9"
      },
      "execution_count": null,
      "outputs": [
        {
          "output_type": "stream",
          "name": "stdout",
          "text": [
            "Requirement already satisfied: bioinfokit in /usr/local/lib/python3.7/dist-packages (2.0.8)\n",
            "Requirement already satisfied: tabulate in /usr/local/lib/python3.7/dist-packages (from bioinfokit) (0.8.9)\n",
            "Requirement already satisfied: scipy in /usr/local/lib/python3.7/dist-packages (from bioinfokit) (1.4.1)\n",
            "Requirement already satisfied: matplotlib in /usr/local/lib/python3.7/dist-packages (from bioinfokit) (3.2.2)\n",
            "Requirement already satisfied: pandas in /usr/local/lib/python3.7/dist-packages (from bioinfokit) (1.1.5)\n",
            "Requirement already satisfied: seaborn in /usr/local/lib/python3.7/dist-packages (from bioinfokit) (0.11.2)\n",
            "Requirement already satisfied: statsmodels in /usr/local/lib/python3.7/dist-packages (from bioinfokit) (0.10.2)\n",
            "Requirement already satisfied: adjustText in /usr/local/lib/python3.7/dist-packages (from bioinfokit) (0.7.3)\n",
            "Requirement already satisfied: scikit-learn in /usr/local/lib/python3.7/dist-packages (from bioinfokit) (1.0.2)\n",
            "Requirement already satisfied: matplotlib-venn in /usr/local/lib/python3.7/dist-packages (from bioinfokit) (0.11.6)\n",
            "Requirement already satisfied: textwrap3 in /usr/local/lib/python3.7/dist-packages (from bioinfokit) (0.9.2)\n",
            "Requirement already satisfied: numpy in /usr/local/lib/python3.7/dist-packages (from bioinfokit) (1.19.5)\n",
            "Requirement already satisfied: kiwisolver>=1.0.1 in /usr/local/lib/python3.7/dist-packages (from matplotlib->bioinfokit) (1.3.2)\n",
            "Requirement already satisfied: cycler>=0.10 in /usr/local/lib/python3.7/dist-packages (from matplotlib->bioinfokit) (0.11.0)\n",
            "Requirement already satisfied: python-dateutil>=2.1 in /usr/local/lib/python3.7/dist-packages (from matplotlib->bioinfokit) (2.8.2)\n",
            "Requirement already satisfied: pyparsing!=2.0.4,!=2.1.2,!=2.1.6,>=2.0.1 in /usr/local/lib/python3.7/dist-packages (from matplotlib->bioinfokit) (3.0.6)\n",
            "Requirement already satisfied: six>=1.5 in /usr/local/lib/python3.7/dist-packages (from python-dateutil>=2.1->matplotlib->bioinfokit) (1.15.0)\n",
            "Requirement already satisfied: pytz>=2017.2 in /usr/local/lib/python3.7/dist-packages (from pandas->bioinfokit) (2018.9)\n",
            "Requirement already satisfied: joblib>=0.11 in /usr/local/lib/python3.7/dist-packages (from scikit-learn->bioinfokit) (1.1.0)\n",
            "Requirement already satisfied: threadpoolctl>=2.0.0 in /usr/local/lib/python3.7/dist-packages (from scikit-learn->bioinfokit) (3.0.0)\n",
            "Requirement already satisfied: patsy>=0.4.0 in /usr/local/lib/python3.7/dist-packages (from statsmodels->bioinfokit) (0.5.2)\n"
          ]
        }
      ]
    },
    {
      "cell_type": "code",
      "source": [
        "#plotting a crosstab necessary for the chi square test\n",
        "sponsor=gsk_sample['sponsor']\n",
        "status=gsk_sample['status']\n",
        "ctab1=pd.crosstab(sponsor,status)\n",
        "ctab1"
      ],
      "metadata": {
        "colab": {
          "base_uri": "https://localhost:8080/",
          "height": 112
        },
        "id": "CUaQCFZ39qn4",
        "outputId": "5a67f192-d062-4828-d206-fc7469235625"
      },
      "execution_count": null,
      "outputs": [
        {
          "output_type": "execute_result",
          "data": {
            "text/html": [
              "\n",
              "  <div id=\"df-5a5fc52b-a576-4b9e-8069-e8b1ef239d1e\">\n",
              "    <div class=\"colab-df-container\">\n",
              "      <div>\n",
              "<style scoped>\n",
              "    .dataframe tbody tr th:only-of-type {\n",
              "        vertical-align: middle;\n",
              "    }\n",
              "\n",
              "    .dataframe tbody tr th {\n",
              "        vertical-align: top;\n",
              "    }\n",
              "\n",
              "    .dataframe thead th {\n",
              "        text-align: right;\n",
              "    }\n",
              "</style>\n",
              "<table border=\"1\" class=\"dataframe\">\n",
              "  <thead>\n",
              "    <tr style=\"text-align: right;\">\n",
              "      <th>status</th>\n",
              "      <th>Active, not recruiting</th>\n",
              "      <th>Completed</th>\n",
              "      <th>Not yet recruiting</th>\n",
              "      <th>Recruiting</th>\n",
              "      <th>Terminated</th>\n",
              "      <th>Unknown status</th>\n",
              "      <th>Withdrawn</th>\n",
              "    </tr>\n",
              "    <tr>\n",
              "      <th>sponsor</th>\n",
              "      <th></th>\n",
              "      <th></th>\n",
              "      <th></th>\n",
              "      <th></th>\n",
              "      <th></th>\n",
              "      <th></th>\n",
              "      <th></th>\n",
              "    </tr>\n",
              "  </thead>\n",
              "  <tbody>\n",
              "    <tr>\n",
              "      <th>GSK</th>\n",
              "      <td>4</td>\n",
              "      <td>212</td>\n",
              "      <td>1</td>\n",
              "      <td>7</td>\n",
              "      <td>15</td>\n",
              "      <td>1</td>\n",
              "      <td>7</td>\n",
              "    </tr>\n",
              "  </tbody>\n",
              "</table>\n",
              "</div>\n",
              "      <button class=\"colab-df-convert\" onclick=\"convertToInteractive('df-5a5fc52b-a576-4b9e-8069-e8b1ef239d1e')\"\n",
              "              title=\"Convert this dataframe to an interactive table.\"\n",
              "              style=\"display:none;\">\n",
              "        \n",
              "  <svg xmlns=\"http://www.w3.org/2000/svg\" height=\"24px\"viewBox=\"0 0 24 24\"\n",
              "       width=\"24px\">\n",
              "    <path d=\"M0 0h24v24H0V0z\" fill=\"none\"/>\n",
              "    <path d=\"M18.56 5.44l.94 2.06.94-2.06 2.06-.94-2.06-.94-.94-2.06-.94 2.06-2.06.94zm-11 1L8.5 8.5l.94-2.06 2.06-.94-2.06-.94L8.5 2.5l-.94 2.06-2.06.94zm10 10l.94 2.06.94-2.06 2.06-.94-2.06-.94-.94-2.06-.94 2.06-2.06.94z\"/><path d=\"M17.41 7.96l-1.37-1.37c-.4-.4-.92-.59-1.43-.59-.52 0-1.04.2-1.43.59L10.3 9.45l-7.72 7.72c-.78.78-.78 2.05 0 2.83L4 21.41c.39.39.9.59 1.41.59.51 0 1.02-.2 1.41-.59l7.78-7.78 2.81-2.81c.8-.78.8-2.07 0-2.86zM5.41 20L4 18.59l7.72-7.72 1.47 1.35L5.41 20z\"/>\n",
              "  </svg>\n",
              "      </button>\n",
              "      \n",
              "  <style>\n",
              "    .colab-df-container {\n",
              "      display:flex;\n",
              "      flex-wrap:wrap;\n",
              "      gap: 12px;\n",
              "    }\n",
              "\n",
              "    .colab-df-convert {\n",
              "      background-color: #E8F0FE;\n",
              "      border: none;\n",
              "      border-radius: 50%;\n",
              "      cursor: pointer;\n",
              "      display: none;\n",
              "      fill: #1967D2;\n",
              "      height: 32px;\n",
              "      padding: 0 0 0 0;\n",
              "      width: 32px;\n",
              "    }\n",
              "\n",
              "    .colab-df-convert:hover {\n",
              "      background-color: #E2EBFA;\n",
              "      box-shadow: 0px 1px 2px rgba(60, 64, 67, 0.3), 0px 1px 3px 1px rgba(60, 64, 67, 0.15);\n",
              "      fill: #174EA6;\n",
              "    }\n",
              "\n",
              "    [theme=dark] .colab-df-convert {\n",
              "      background-color: #3B4455;\n",
              "      fill: #D2E3FC;\n",
              "    }\n",
              "\n",
              "    [theme=dark] .colab-df-convert:hover {\n",
              "      background-color: #434B5C;\n",
              "      box-shadow: 0px 1px 3px 1px rgba(0, 0, 0, 0.15);\n",
              "      filter: drop-shadow(0px 1px 2px rgba(0, 0, 0, 0.3));\n",
              "      fill: #FFFFFF;\n",
              "    }\n",
              "  </style>\n",
              "\n",
              "      <script>\n",
              "        const buttonEl =\n",
              "          document.querySelector('#df-5a5fc52b-a576-4b9e-8069-e8b1ef239d1e button.colab-df-convert');\n",
              "        buttonEl.style.display =\n",
              "          google.colab.kernel.accessAllowed ? 'block' : 'none';\n",
              "\n",
              "        async function convertToInteractive(key) {\n",
              "          const element = document.querySelector('#df-5a5fc52b-a576-4b9e-8069-e8b1ef239d1e');\n",
              "          const dataTable =\n",
              "            await google.colab.kernel.invokeFunction('convertToInteractive',\n",
              "                                                     [key], {});\n",
              "          if (!dataTable) return;\n",
              "\n",
              "          const docLinkHtml = 'Like what you see? Visit the ' +\n",
              "            '<a target=\"_blank\" href=https://colab.research.google.com/notebooks/data_table.ipynb>data table notebook</a>'\n",
              "            + ' to learn more about interactive tables.';\n",
              "          element.innerHTML = '';\n",
              "          dataTable['output_type'] = 'display_data';\n",
              "          await google.colab.output.renderOutput(dataTable, element);\n",
              "          const docLink = document.createElement('div');\n",
              "          docLink.innerHTML = docLinkHtml;\n",
              "          element.appendChild(docLink);\n",
              "        }\n",
              "      </script>\n",
              "    </div>\n",
              "  </div>\n",
              "  "
            ],
            "text/plain": [
              "status   Active, not recruiting  Completed  ...  Unknown status  Withdrawn\n",
              "sponsor                                     ...                           \n",
              "GSK                           4        212  ...               1          7\n",
              "\n",
              "[1 rows x 7 columns]"
            ]
          },
          "metadata": {},
          "execution_count": 169
        }
      ]
    },
    {
      "cell_type": "code",
      "source": [
        "#importing our libraries\n",
        "from bioinfokit.analys import stat"
      ],
      "metadata": {
        "id": "MyMeRXTsAyQi"
      },
      "execution_count": null,
      "outputs": []
    },
    {
      "cell_type": "code",
      "source": [
        "#performing the chi square test\n",
        "res=stat()\n",
        "res.chisq(df=ctab1)\n",
        "print(res.summary)"
      ],
      "metadata": {
        "colab": {
          "base_uri": "https://localhost:8080/"
        },
        "id": "qFsi5wpw_V7R",
        "outputId": "26edcf5d-791f-4b68-996b-495688c9dbd0"
      },
      "execution_count": null,
      "outputs": [
        {
          "output_type": "stream",
          "name": "stdout",
          "text": [
            "\n",
            "Chi-squared test for independence\n",
            "\n",
            "Test              Df    Chi-square    P-value\n",
            "--------------  ----  ------------  ---------\n",
            "Pearson            0             0          1\n",
            "Log-likelihood     0             0          1\n",
            "\n"
          ]
        }
      ]
    },
    {
      "cell_type": "markdown",
      "source": [
        "After challenging our initial solution, we get a p value of 1.0 which is the same as the one got during hypothesis testing, we therfore fail to reject null hypothesis."
      ],
      "metadata": {
        "id": "vm3CZfdrUD3h"
      }
    },
    {
      "cell_type": "markdown",
      "source": [
        "## **9. Recommendations**"
      ],
      "metadata": {
        "id": "nuYEU28eN5bX"
      }
    },
    {
      "cell_type": "markdown",
      "source": [
        "1. The government  regulatory board can use this information to give proper directives to these companies in order to effect change.\n",
        "\n",
        "2. More investigations should be made  on companies that are dragging behind when it comes to the carrying out of the trials.\n",
        "\n",
        "3. Proper publishing of trials should be made to avoid wastage of resources and time by  the pharmaceutical companies.\n",
        "\n",
        "4. More resources should be directed to conditions that affect more people.\n"
      ],
      "metadata": {
        "id": "4LyQZmUyNx6f"
      }
    }
  ]
}